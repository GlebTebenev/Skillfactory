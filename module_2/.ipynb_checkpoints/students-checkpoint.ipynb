{
 "cells": [
  {
   "cell_type": "markdown",
   "id": "2c2aced7",
   "metadata": {},
   "source": [
    "# Итоговое задание\n",
    "\n",
    "Вас пригласили поучаствовать в одном из проектов UNICEF — международного подразделения ООН, чья миссия состоит в повышении уровня благополучия детей по всему миру. \n",
    "\n",
    "Суть проекта — отследить влияние условий жизни учащихся в возрасте от 15 до 22 лет на их успеваемость по математике, чтобы на ранней стадии выявлять студентов, находящихся в группе риска.\n",
    "\n",
    "И сделать это можно с помощью модели, которая предсказывала бы результаты госэкзамена по математике для каждого ученика школы (вот она, сила ML!). Чтобы определиться с параметрами будущей модели, проведите разведывательный анализ данных и составьте отчёт по его результатам. \n",
    "\n",
    "Ниже вы найдете пошаговую инструкцию по выполнению проекта.\n",
    "\n",
    "### Описание датасета\n",
    "Посмотрим на переменные, которые содержит датасет:\n",
    "1. *`school`* — аббревиатура школы, в которой учится ученик\n",
    "2. *`sex`* — пол ученика ('F' - женский, 'M' - мужской)\n",
    "3. *`age`* — возраст ученика (от 15 до 22)\n",
    "4. *`address`* — тип адреса ученика ('U' - городской, 'R' - за городом)\n",
    "5. *`famsize`* — размер семьи('LE3' <= 3, 'GT3' >3)\n",
    "6. *`Pstatus`* — статус совместного жилья родителей ('T' - живут вместе 'A' - раздельно)\n",
    "7. *`Medu`* — образование матери (0 - нет, 1 - 4 класса, 2 - 5-9 классы, 3 - среднее специальное или 11 классов, 4 - высшее)\n",
    "8. *`Fedu`* — образование отца (0 - нет, 1 - 4 класса, 2 - 5-9 классы, 3 - среднее специальное или 11 классов, 4 - высшее)\n",
    "9. *`Mjob`* — работа матери ('teacher' - учитель, 'health' - сфера здравоохранения, 'services' - гос служба, 'at_home' - не работает, 'other' - другое)\n",
    "10. *`Fjob`* — работа отца ('teacher' - учитель, 'health' - сфера здравоохранения, 'services' - гос служба, 'at_home' - не работает, 'other' - другое)\n",
    "11. *`reason`* — причина выбора школы ('home' - близость к дому, 'reputation' - репутация школы, 'course' - образовательная программа, 'other' - другое)\n",
    "12. *`guardian`* — опекун ('mother' - мать, 'father' - отец, 'other' - другое)\n",
    "13. *`traveltime`* — время в пути до школы (1 - <15 мин., 2 - 15-30 мин., 3 - 30-60 мин., 4 - >60 мин.)\n",
    "14. *`studytime`* — время на учёбу помимо школы в неделю (1 - <2 часов, 2 - 2-5 часов, 3 - 5-10 часов, 4 - >10 часов)\n",
    "15. *`failures`* — количество внеучебных неудач (n, если 1<=n<=3, иначе 0)\n",
    "16. *`schoolsup`* — дополнительная образовательная поддержка (yes или no)\n",
    "17. *`famsup`* — семейная образовательная поддержка (yes или no)\n",
    "18. *`paid`* — дополнительные платные занятия по математике (yes или no)\n",
    "19. *`activities`* — дополнительные внеучебные занятия (yes или no)\n",
    "20. *`nursery`* — посещал детский сад (yes или no)\n",
    "21. *`higher`* — хочет получить высшее образование (yes или no)\n",
    "22. *`internet`* — наличие интернета дома (yes или no)\n",
    "23. *`romantic`* — в романтических отношениях (yes или no)\n",
    "24. *`famrel`* — семейные отношения (от 1 - очень плохо до 5 - очень хорошо)\n",
    "25. *`freetime`* — свободное время после школы (от 1 - очень мало до 5 - очень мого)\n",
    "26. *`goout`* — проведение времени с друзьями (от 1 - очень мало до 5 - очень много)\n",
    "27. *`health`* — текущее состояние здоровья (от 1 - очень плохо до 5 - очень хорошо)\n",
    "28. *`absences`* — количество пропущенных занятий\n",
    "29. *`score`* — баллы по госэкзамену по математике\n",
    "\n",
    "### `Рекомендации по выполнению проекта`\n",
    "1. Проведите ***первичную обработку*** данных. Так как данных много, стоит написать функции, которые можно применять к столбцам определённого типа.\n",
    "2. Посмотрите на ***распределение признака*** для числовых переменных, устраните выбросы.\n",
    "3. Оцените количество ***уникальных значений*** для номинативных переменных.\n",
    "4. По необходимости ***преобразуйте*** данные\n",
    "5. Проведите ***корреляционный анализ*** количественных переменных\n",
    "6. Отберите ***не коррелирующие*** переменные.\n",
    "7. Проанализируйте номинативные переменные и устраните те, которые ***не влияют*** на предсказываемую величину (в нашем случае — на переменную score).\n",
    "8. Не забудьте ***сформулировать выводы*** относительно качества данных и тех переменных, которые вы будете использовать в дальнейшем построении модели.\n",
    "---"
   ]
  },
  {
   "cell_type": "markdown",
   "id": "2f17d819",
   "metadata": {},
   "source": [
    "## Подготовка к работе\n",
    "***Импорт библиотек и чтение файла***"
   ]
  },
  {
   "cell_type": "code",
   "execution_count": 1,
   "id": "9187fb07",
   "metadata": {},
   "outputs": [],
   "source": [
    "import pandas as pd\n",
    "import matplotlib.pyplot as plt\n",
    "import seaborn as sns\n",
    "from itertools import combinations\n",
    "from scipy.stats import ttest_ind\n",
    "\n",
    "pd.set_option('display.max_rows', 50) # показывать больше строк\n",
    "pd.set_option('display.max_columns', 50) # показывать больше колонок\n",
    "\n",
    "students = pd.read_csv('stud_math.csv')"
   ]
  },
  {
   "cell_type": "markdown",
   "id": "1b942464",
   "metadata": {},
   "source": [
    "##### Рассмотрим, какие данные хранятся в файле и какие типы данных у столбцов:"
   ]
  },
  {
   "cell_type": "code",
   "execution_count": 2,
   "id": "7a7a1090",
   "metadata": {},
   "outputs": [
    {
     "data": {
      "text/html": [
       "<div>\n",
       "<style scoped>\n",
       "    .dataframe tbody tr th:only-of-type {\n",
       "        vertical-align: middle;\n",
       "    }\n",
       "\n",
       "    .dataframe tbody tr th {\n",
       "        vertical-align: top;\n",
       "    }\n",
       "\n",
       "    .dataframe thead th {\n",
       "        text-align: right;\n",
       "    }\n",
       "</style>\n",
       "<table border=\"1\" class=\"dataframe\">\n",
       "  <thead>\n",
       "    <tr style=\"text-align: right;\">\n",
       "      <th></th>\n",
       "      <th>school</th>\n",
       "      <th>sex</th>\n",
       "      <th>age</th>\n",
       "      <th>address</th>\n",
       "      <th>famsize</th>\n",
       "      <th>Pstatus</th>\n",
       "      <th>Medu</th>\n",
       "      <th>Fedu</th>\n",
       "      <th>Mjob</th>\n",
       "      <th>Fjob</th>\n",
       "      <th>reason</th>\n",
       "      <th>guardian</th>\n",
       "      <th>traveltime</th>\n",
       "      <th>studytime</th>\n",
       "      <th>failures</th>\n",
       "      <th>schoolsup</th>\n",
       "      <th>famsup</th>\n",
       "      <th>paid</th>\n",
       "      <th>activities</th>\n",
       "      <th>nursery</th>\n",
       "      <th>studytime, granular</th>\n",
       "      <th>higher</th>\n",
       "      <th>internet</th>\n",
       "      <th>romantic</th>\n",
       "      <th>famrel</th>\n",
       "      <th>freetime</th>\n",
       "      <th>goout</th>\n",
       "      <th>health</th>\n",
       "      <th>absences</th>\n",
       "      <th>score</th>\n",
       "    </tr>\n",
       "  </thead>\n",
       "  <tbody>\n",
       "    <tr>\n",
       "      <th>0</th>\n",
       "      <td>GP</td>\n",
       "      <td>F</td>\n",
       "      <td>18</td>\n",
       "      <td>U</td>\n",
       "      <td>NaN</td>\n",
       "      <td>A</td>\n",
       "      <td>4.0</td>\n",
       "      <td>4.0</td>\n",
       "      <td>at_home</td>\n",
       "      <td>teacher</td>\n",
       "      <td>course</td>\n",
       "      <td>mother</td>\n",
       "      <td>2.0</td>\n",
       "      <td>2.0</td>\n",
       "      <td>0.0</td>\n",
       "      <td>yes</td>\n",
       "      <td>no</td>\n",
       "      <td>no</td>\n",
       "      <td>no</td>\n",
       "      <td>yes</td>\n",
       "      <td>-6.0</td>\n",
       "      <td>yes</td>\n",
       "      <td>NaN</td>\n",
       "      <td>no</td>\n",
       "      <td>4.0</td>\n",
       "      <td>3.0</td>\n",
       "      <td>4.0</td>\n",
       "      <td>3.0</td>\n",
       "      <td>6.0</td>\n",
       "      <td>30.0</td>\n",
       "    </tr>\n",
       "    <tr>\n",
       "      <th>1</th>\n",
       "      <td>GP</td>\n",
       "      <td>F</td>\n",
       "      <td>17</td>\n",
       "      <td>U</td>\n",
       "      <td>GT3</td>\n",
       "      <td>NaN</td>\n",
       "      <td>1.0</td>\n",
       "      <td>1.0</td>\n",
       "      <td>at_home</td>\n",
       "      <td>other</td>\n",
       "      <td>course</td>\n",
       "      <td>father</td>\n",
       "      <td>1.0</td>\n",
       "      <td>2.0</td>\n",
       "      <td>0.0</td>\n",
       "      <td>no</td>\n",
       "      <td>yes</td>\n",
       "      <td>no</td>\n",
       "      <td>no</td>\n",
       "      <td>no</td>\n",
       "      <td>-6.0</td>\n",
       "      <td>yes</td>\n",
       "      <td>yes</td>\n",
       "      <td>no</td>\n",
       "      <td>5.0</td>\n",
       "      <td>3.0</td>\n",
       "      <td>3.0</td>\n",
       "      <td>3.0</td>\n",
       "      <td>4.0</td>\n",
       "      <td>30.0</td>\n",
       "    </tr>\n",
       "    <tr>\n",
       "      <th>2</th>\n",
       "      <td>GP</td>\n",
       "      <td>F</td>\n",
       "      <td>15</td>\n",
       "      <td>U</td>\n",
       "      <td>LE3</td>\n",
       "      <td>T</td>\n",
       "      <td>1.0</td>\n",
       "      <td>1.0</td>\n",
       "      <td>at_home</td>\n",
       "      <td>other</td>\n",
       "      <td>other</td>\n",
       "      <td>mother</td>\n",
       "      <td>1.0</td>\n",
       "      <td>2.0</td>\n",
       "      <td>3.0</td>\n",
       "      <td>yes</td>\n",
       "      <td>no</td>\n",
       "      <td>NaN</td>\n",
       "      <td>no</td>\n",
       "      <td>yes</td>\n",
       "      <td>-6.0</td>\n",
       "      <td>yes</td>\n",
       "      <td>yes</td>\n",
       "      <td>NaN</td>\n",
       "      <td>4.0</td>\n",
       "      <td>3.0</td>\n",
       "      <td>2.0</td>\n",
       "      <td>3.0</td>\n",
       "      <td>10.0</td>\n",
       "      <td>50.0</td>\n",
       "    </tr>\n",
       "    <tr>\n",
       "      <th>3</th>\n",
       "      <td>GP</td>\n",
       "      <td>F</td>\n",
       "      <td>15</td>\n",
       "      <td>U</td>\n",
       "      <td>GT3</td>\n",
       "      <td>T</td>\n",
       "      <td>4.0</td>\n",
       "      <td>2.0</td>\n",
       "      <td>health</td>\n",
       "      <td>NaN</td>\n",
       "      <td>home</td>\n",
       "      <td>mother</td>\n",
       "      <td>1.0</td>\n",
       "      <td>3.0</td>\n",
       "      <td>0.0</td>\n",
       "      <td>no</td>\n",
       "      <td>yes</td>\n",
       "      <td>yes</td>\n",
       "      <td>yes</td>\n",
       "      <td>yes</td>\n",
       "      <td>-9.0</td>\n",
       "      <td>yes</td>\n",
       "      <td>yes</td>\n",
       "      <td>yes</td>\n",
       "      <td>3.0</td>\n",
       "      <td>2.0</td>\n",
       "      <td>2.0</td>\n",
       "      <td>5.0</td>\n",
       "      <td>2.0</td>\n",
       "      <td>75.0</td>\n",
       "    </tr>\n",
       "    <tr>\n",
       "      <th>4</th>\n",
       "      <td>GP</td>\n",
       "      <td>F</td>\n",
       "      <td>16</td>\n",
       "      <td>U</td>\n",
       "      <td>GT3</td>\n",
       "      <td>T</td>\n",
       "      <td>3.0</td>\n",
       "      <td>3.0</td>\n",
       "      <td>other</td>\n",
       "      <td>other</td>\n",
       "      <td>home</td>\n",
       "      <td>father</td>\n",
       "      <td>1.0</td>\n",
       "      <td>2.0</td>\n",
       "      <td>0.0</td>\n",
       "      <td>no</td>\n",
       "      <td>yes</td>\n",
       "      <td>yes</td>\n",
       "      <td>no</td>\n",
       "      <td>yes</td>\n",
       "      <td>-6.0</td>\n",
       "      <td>yes</td>\n",
       "      <td>no</td>\n",
       "      <td>no</td>\n",
       "      <td>4.0</td>\n",
       "      <td>3.0</td>\n",
       "      <td>2.0</td>\n",
       "      <td>5.0</td>\n",
       "      <td>4.0</td>\n",
       "      <td>50.0</td>\n",
       "    </tr>\n",
       "    <tr>\n",
       "      <th>5</th>\n",
       "      <td>GP</td>\n",
       "      <td>M</td>\n",
       "      <td>16</td>\n",
       "      <td>U</td>\n",
       "      <td>LE3</td>\n",
       "      <td>T</td>\n",
       "      <td>4.0</td>\n",
       "      <td>3.0</td>\n",
       "      <td>services</td>\n",
       "      <td>other</td>\n",
       "      <td>reputation</td>\n",
       "      <td>mother</td>\n",
       "      <td>1.0</td>\n",
       "      <td>2.0</td>\n",
       "      <td>0.0</td>\n",
       "      <td>no</td>\n",
       "      <td>yes</td>\n",
       "      <td>yes</td>\n",
       "      <td>yes</td>\n",
       "      <td>yes</td>\n",
       "      <td>-6.0</td>\n",
       "      <td>yes</td>\n",
       "      <td>yes</td>\n",
       "      <td>no</td>\n",
       "      <td>5.0</td>\n",
       "      <td>4.0</td>\n",
       "      <td>2.0</td>\n",
       "      <td>5.0</td>\n",
       "      <td>10.0</td>\n",
       "      <td>75.0</td>\n",
       "    </tr>\n",
       "    <tr>\n",
       "      <th>6</th>\n",
       "      <td>GP</td>\n",
       "      <td>M</td>\n",
       "      <td>16</td>\n",
       "      <td>NaN</td>\n",
       "      <td>LE3</td>\n",
       "      <td>T</td>\n",
       "      <td>2.0</td>\n",
       "      <td>2.0</td>\n",
       "      <td>other</td>\n",
       "      <td>other</td>\n",
       "      <td>home</td>\n",
       "      <td>mother</td>\n",
       "      <td>1.0</td>\n",
       "      <td>2.0</td>\n",
       "      <td>0.0</td>\n",
       "      <td>no</td>\n",
       "      <td>no</td>\n",
       "      <td>no</td>\n",
       "      <td>no</td>\n",
       "      <td>yes</td>\n",
       "      <td>-6.0</td>\n",
       "      <td>yes</td>\n",
       "      <td>yes</td>\n",
       "      <td>no</td>\n",
       "      <td>4.0</td>\n",
       "      <td>4.0</td>\n",
       "      <td>4.0</td>\n",
       "      <td>3.0</td>\n",
       "      <td>0.0</td>\n",
       "      <td>55.0</td>\n",
       "    </tr>\n",
       "    <tr>\n",
       "      <th>7</th>\n",
       "      <td>GP</td>\n",
       "      <td>F</td>\n",
       "      <td>17</td>\n",
       "      <td>U</td>\n",
       "      <td>GT3</td>\n",
       "      <td>A</td>\n",
       "      <td>4.0</td>\n",
       "      <td>4.0</td>\n",
       "      <td>other</td>\n",
       "      <td>teacher</td>\n",
       "      <td>home</td>\n",
       "      <td>mother</td>\n",
       "      <td>2.0</td>\n",
       "      <td>2.0</td>\n",
       "      <td>0.0</td>\n",
       "      <td>yes</td>\n",
       "      <td>yes</td>\n",
       "      <td>no</td>\n",
       "      <td>no</td>\n",
       "      <td>yes</td>\n",
       "      <td>-6.0</td>\n",
       "      <td>yes</td>\n",
       "      <td>no</td>\n",
       "      <td>no</td>\n",
       "      <td>4.0</td>\n",
       "      <td>1.0</td>\n",
       "      <td>4.0</td>\n",
       "      <td>1.0</td>\n",
       "      <td>6.0</td>\n",
       "      <td>30.0</td>\n",
       "    </tr>\n",
       "    <tr>\n",
       "      <th>8</th>\n",
       "      <td>GP</td>\n",
       "      <td>M</td>\n",
       "      <td>15</td>\n",
       "      <td>U</td>\n",
       "      <td>LE3</td>\n",
       "      <td>A</td>\n",
       "      <td>3.0</td>\n",
       "      <td>2.0</td>\n",
       "      <td>services</td>\n",
       "      <td>other</td>\n",
       "      <td>home</td>\n",
       "      <td>mother</td>\n",
       "      <td>1.0</td>\n",
       "      <td>2.0</td>\n",
       "      <td>0.0</td>\n",
       "      <td>no</td>\n",
       "      <td>yes</td>\n",
       "      <td>yes</td>\n",
       "      <td>no</td>\n",
       "      <td>yes</td>\n",
       "      <td>-6.0</td>\n",
       "      <td>yes</td>\n",
       "      <td>yes</td>\n",
       "      <td>no</td>\n",
       "      <td>NaN</td>\n",
       "      <td>2.0</td>\n",
       "      <td>2.0</td>\n",
       "      <td>1.0</td>\n",
       "      <td>0.0</td>\n",
       "      <td>95.0</td>\n",
       "    </tr>\n",
       "    <tr>\n",
       "      <th>9</th>\n",
       "      <td>GP</td>\n",
       "      <td>M</td>\n",
       "      <td>15</td>\n",
       "      <td>U</td>\n",
       "      <td>NaN</td>\n",
       "      <td>NaN</td>\n",
       "      <td>3.0</td>\n",
       "      <td>4.0</td>\n",
       "      <td>other</td>\n",
       "      <td>other</td>\n",
       "      <td>home</td>\n",
       "      <td>mother</td>\n",
       "      <td>1.0</td>\n",
       "      <td>2.0</td>\n",
       "      <td>0.0</td>\n",
       "      <td>no</td>\n",
       "      <td>yes</td>\n",
       "      <td>yes</td>\n",
       "      <td>yes</td>\n",
       "      <td>yes</td>\n",
       "      <td>-6.0</td>\n",
       "      <td>yes</td>\n",
       "      <td>yes</td>\n",
       "      <td>no</td>\n",
       "      <td>5.0</td>\n",
       "      <td>5.0</td>\n",
       "      <td>1.0</td>\n",
       "      <td>5.0</td>\n",
       "      <td>0.0</td>\n",
       "      <td>75.0</td>\n",
       "    </tr>\n",
       "  </tbody>\n",
       "</table>\n",
       "</div>"
      ],
      "text/plain": [
       "  school sex  age address famsize Pstatus  Medu  Fedu      Mjob     Fjob  \\\n",
       "0     GP   F   18       U     NaN       A   4.0   4.0   at_home  teacher   \n",
       "1     GP   F   17       U     GT3     NaN   1.0   1.0   at_home    other   \n",
       "2     GP   F   15       U     LE3       T   1.0   1.0   at_home    other   \n",
       "3     GP   F   15       U     GT3       T   4.0   2.0    health      NaN   \n",
       "4     GP   F   16       U     GT3       T   3.0   3.0     other    other   \n",
       "5     GP   M   16       U     LE3       T   4.0   3.0  services    other   \n",
       "6     GP   M   16     NaN     LE3       T   2.0   2.0     other    other   \n",
       "7     GP   F   17       U     GT3       A   4.0   4.0     other  teacher   \n",
       "8     GP   M   15       U     LE3       A   3.0   2.0  services    other   \n",
       "9     GP   M   15       U     NaN     NaN   3.0   4.0     other    other   \n",
       "\n",
       "       reason guardian  traveltime  studytime  failures schoolsup famsup paid  \\\n",
       "0      course   mother         2.0        2.0       0.0       yes     no   no   \n",
       "1      course   father         1.0        2.0       0.0        no    yes   no   \n",
       "2       other   mother         1.0        2.0       3.0       yes     no  NaN   \n",
       "3        home   mother         1.0        3.0       0.0        no    yes  yes   \n",
       "4        home   father         1.0        2.0       0.0        no    yes  yes   \n",
       "5  reputation   mother         1.0        2.0       0.0        no    yes  yes   \n",
       "6        home   mother         1.0        2.0       0.0        no     no   no   \n",
       "7        home   mother         2.0        2.0       0.0       yes    yes   no   \n",
       "8        home   mother         1.0        2.0       0.0        no    yes  yes   \n",
       "9        home   mother         1.0        2.0       0.0        no    yes  yes   \n",
       "\n",
       "  activities nursery  studytime, granular higher internet romantic  famrel  \\\n",
       "0         no     yes                 -6.0    yes      NaN       no     4.0   \n",
       "1         no      no                 -6.0    yes      yes       no     5.0   \n",
       "2         no     yes                 -6.0    yes      yes      NaN     4.0   \n",
       "3        yes     yes                 -9.0    yes      yes      yes     3.0   \n",
       "4         no     yes                 -6.0    yes       no       no     4.0   \n",
       "5        yes     yes                 -6.0    yes      yes       no     5.0   \n",
       "6         no     yes                 -6.0    yes      yes       no     4.0   \n",
       "7         no     yes                 -6.0    yes       no       no     4.0   \n",
       "8         no     yes                 -6.0    yes      yes       no     NaN   \n",
       "9        yes     yes                 -6.0    yes      yes       no     5.0   \n",
       "\n",
       "   freetime  goout  health  absences  score  \n",
       "0       3.0    4.0     3.0       6.0   30.0  \n",
       "1       3.0    3.0     3.0       4.0   30.0  \n",
       "2       3.0    2.0     3.0      10.0   50.0  \n",
       "3       2.0    2.0     5.0       2.0   75.0  \n",
       "4       3.0    2.0     5.0       4.0   50.0  \n",
       "5       4.0    2.0     5.0      10.0   75.0  \n",
       "6       4.0    4.0     3.0       0.0   55.0  \n",
       "7       1.0    4.0     1.0       6.0   30.0  \n",
       "8       2.0    2.0     1.0       0.0   95.0  \n",
       "9       5.0    1.0     5.0       0.0   75.0  "
      ]
     },
     "metadata": {},
     "output_type": "display_data"
    },
    {
     "name": "stdout",
     "output_type": "stream",
     "text": [
      "<class 'pandas.core.frame.DataFrame'>\n",
      "RangeIndex: 395 entries, 0 to 394\n",
      "Data columns (total 30 columns):\n",
      " #   Column               Non-Null Count  Dtype  \n",
      "---  ------               --------------  -----  \n",
      " 0   school               395 non-null    object \n",
      " 1   sex                  395 non-null    object \n",
      " 2   age                  395 non-null    int64  \n",
      " 3   address              378 non-null    object \n",
      " 4   famsize              368 non-null    object \n",
      " 5   Pstatus              350 non-null    object \n",
      " 6   Medu                 392 non-null    float64\n",
      " 7   Fedu                 371 non-null    float64\n",
      " 8   Mjob                 376 non-null    object \n",
      " 9   Fjob                 359 non-null    object \n",
      " 10  reason               378 non-null    object \n",
      " 11  guardian             364 non-null    object \n",
      " 12  traveltime           367 non-null    float64\n",
      " 13  studytime            388 non-null    float64\n",
      " 14  failures             373 non-null    float64\n",
      " 15  schoolsup            386 non-null    object \n",
      " 16  famsup               356 non-null    object \n",
      " 17  paid                 355 non-null    object \n",
      " 18  activities           381 non-null    object \n",
      " 19  nursery              379 non-null    object \n",
      " 20  studytime, granular  388 non-null    float64\n",
      " 21  higher               375 non-null    object \n",
      " 22  internet             361 non-null    object \n",
      " 23  romantic             364 non-null    object \n",
      " 24  famrel               368 non-null    float64\n",
      " 25  freetime             384 non-null    float64\n",
      " 26  goout                387 non-null    float64\n",
      " 27  health               380 non-null    float64\n",
      " 28  absences             383 non-null    float64\n",
      " 29  score                389 non-null    float64\n",
      "dtypes: float64(12), int64(1), object(17)\n",
      "memory usage: 92.7+ KB\n"
     ]
    }
   ],
   "source": [
    "display(students.head(10))\n",
    "students.info()"
   ]
  },
  {
   "cell_type": "markdown",
   "id": "e9f6cd4b",
   "metadata": {},
   "source": [
    "1. Строковых - 17\n",
    "2. Числовых - 13"
   ]
  },
  {
   "cell_type": "markdown",
   "id": "b630a1c2",
   "metadata": {},
   "source": [
    "***Здесь будут вспомогательные функции, которые будут использованы далее***"
   ]
  },
  {
   "cell_type": "code",
   "execution_count": 3,
   "id": "a03dfa96",
   "metadata": {},
   "outputs": [],
   "source": [
    "def display_info(df, column):\n",
    "    '''вывод первичной информации о столбце. на входе - столбец датафрейма и название столбца'''\n",
    "    display(pd.DataFrame(df[column].value_counts()))\n",
    "    #print(\"Значений, встретившихся в столбце более 10 раз:\", (x.value_counts()>10).sum())\n",
    "    print(\"Уникальных значений:\", df[column].nunique())\n",
    "    df.loc[:, [column]].info()\n",
    "\n",
    "\n",
    "def get_boxplot(df, column):\n",
    "    '''построение графика'''\n",
    "    fig, ax = plt.subplots(figsize = (14, 4))\n",
    "    sns.boxplot(x=column, y='score', \n",
    "                data=df.loc[df.loc[:, column].isin(df.loc[:, column].value_counts().index[:10])],\n",
    "               ax=ax)\n",
    "    plt.xticks(rotation=45)\n",
    "    ax.set_title('Boxplot for ' + column)\n",
    "    plt.show()\n",
    "\n",
    " \n",
    "def get_stat_dif(column):\n",
    "    '''тест Стьюдента'''\n",
    "    cols = students.loc[:, column].value_counts().index[:10]\n",
    "    combinations_all = list(combinations(cols, 2))\n",
    "    for comb in combinations_all:\n",
    "        if ttest_ind(students.loc[students.loc[:, column] == comb[0], 'score'], \n",
    "                        students.loc[students.loc[:, column] == comb[1], 'score']).pvalue \\\n",
    "            <= 0.05/len(combinations_all): # Учли поправку Бонферони\n",
    "            print('Найдены статистически значимые различия для колонки', column)\n",
    "            break\n",
    "            \n",
    "\n",
    "def stat_column(column):\n",
    "    '''подведение статистики по верхним и нижним границам, вычисление квартилей'''\n",
    "    mean_num = column.mean()\n",
    "    perc25 = column.quantile(0.25)\n",
    "    perc50 = column.quantile(0.50)\n",
    "    perc75 = column.quantile(0.75)\n",
    "    IQR = perc75 - perc25\n",
    "    bottom_bound = perc25 - 1.5*IQR\n",
    "    top_bound = perc75 + 1.5*IQR\n",
    "#     count_lower = column[column < bottom_bound].value_counts()\n",
    "#     count_upper = column[column > top_bound].value_counts()\n",
    "    print(f'Среднее значение: {mean_num}\\n',\n",
    "        f'25-й перцентиль: {perc25}\\n',\n",
    "        f'50-й перцентиль: {perc50}\\n',\n",
    "        f'75-й перцентиль: {perc75}\\n',\n",
    "        f'IQR: {IQR}\\n',\n",
    "        f'Границы выбросов: [{bottom_bound}, {top_bound}]\\n')\n",
    "#          f'Количество выбросов ниже и выше границ: [{count_lower}, {count_upper}]')\n",
    "\n",
    "\n",
    "# def refill_nan(df, column, refill_type):\n",
    "#     '''Заполняет пропуски на медианой или модой'''\n",
    "#     if refill_type == 'median':\n",
    "#         refill = df[column].median()\n",
    "#     if refill_type == 'mode':\n",
    "#         refill = df[column].mode()[0]\n",
    "    \n",
    "#     if refill_type in ['median', 'mode']:\n",
    "#         df[column].fillna(refill, inplace=True)\n",
    "\n",
    "#     return df\n",
    "\n",
    "def refill_nan(df, column):\n",
    "    '''Заполняет пропуски на медианой или модой'''\n",
    "    refill = None  # Переменная, будет в себе хранить медиану или моду\n",
    "    \n",
    "    if df[column].dtypes in ['int64', 'float64']:\n",
    "        refill = df[column].median()\n",
    "    if df[column].dtypes in ['object', 'O']:\n",
    "        refill = df[column].mode()[0]\n",
    "    \n",
    "    if refill != 0:\n",
    "        df[column].fillna(refill, inplace=True)\n",
    "\n",
    "    return df\n",
    "\n",
    "# Устал прописывать одно и то же по 10 раз, написал коротенькую функцию\n",
    "def show_info(df, column):\n",
    "    '''Показывает первичную информацию по колонке'''\n",
    "    print(f'========================================\\nВывод значений:')\n",
    "    display(df[column].value_counts(dropna = False))\n",
    "    print(f'========================================\\nВывод процентного соотношения:')\n",
    "    display(df[column].value_counts(dropna = False, normalize = True))\n",
    "    print(f'========================================\\nВывод общей информации:')\n",
    "    display_info(df, column)\n",
    "    if df[column].dtypes in ['int64', 'float64']:  # Если значения числовые\n",
    "        print(f'\\n========================================\\nПервичная статистика (квартили, границы):')\n",
    "        stat_column(df[column])\n",
    "    print(f'\\n========================================\\nГрафик:')\n",
    "    df[column].hist()"
   ]
  },
  {
   "cell_type": "markdown",
   "id": "e0a93c68",
   "metadata": {},
   "source": [
    "## Рассмотрим столбцы\n",
    "\n",
    "Заранее определим на будущее ряд правил:\n",
    "1. Если в столбце пустых значений менее 8%, то заменяем данные значения на:\n",
    "    * Моду, если тип строковый\n",
    "    * Медиану, если тип числовой\n",
    "2. Если выбросов менее 1%, то ими можно пренебречь\n",
    "3. Чтобы не путаться в названиях из-за регистров, приведем все названия колонок к нижнему регистру"
   ]
  },
  {
   "cell_type": "code",
   "execution_count": 4,
   "id": "34e87925",
   "metadata": {},
   "outputs": [],
   "source": [
    "students.columns = students.columns.map(lambda x: x.lower())"
   ]
  },
  {
   "cell_type": "markdown",
   "id": "a2dbd744",
   "metadata": {},
   "source": [
    "#### SCHOOL"
   ]
  },
  {
   "cell_type": "code",
   "execution_count": 5,
   "id": "9e1e2f00",
   "metadata": {},
   "outputs": [
    {
     "name": "stdout",
     "output_type": "stream",
     "text": [
      "========================================\n",
      "Вывод значений:\n"
     ]
    },
    {
     "data": {
      "text/plain": [
       "GP    349\n",
       "MS     46\n",
       "Name: school, dtype: int64"
      ]
     },
     "metadata": {},
     "output_type": "display_data"
    },
    {
     "name": "stdout",
     "output_type": "stream",
     "text": [
      "========================================\n",
      "Вывод процентного соотношения:\n"
     ]
    },
    {
     "data": {
      "text/plain": [
       "GP    0.883544\n",
       "MS    0.116456\n",
       "Name: school, dtype: float64"
      ]
     },
     "metadata": {},
     "output_type": "display_data"
    },
    {
     "name": "stdout",
     "output_type": "stream",
     "text": [
      "========================================\n",
      "Вывод общей информации:\n"
     ]
    },
    {
     "data": {
      "text/html": [
       "<div>\n",
       "<style scoped>\n",
       "    .dataframe tbody tr th:only-of-type {\n",
       "        vertical-align: middle;\n",
       "    }\n",
       "\n",
       "    .dataframe tbody tr th {\n",
       "        vertical-align: top;\n",
       "    }\n",
       "\n",
       "    .dataframe thead th {\n",
       "        text-align: right;\n",
       "    }\n",
       "</style>\n",
       "<table border=\"1\" class=\"dataframe\">\n",
       "  <thead>\n",
       "    <tr style=\"text-align: right;\">\n",
       "      <th></th>\n",
       "      <th>school</th>\n",
       "    </tr>\n",
       "  </thead>\n",
       "  <tbody>\n",
       "    <tr>\n",
       "      <th>GP</th>\n",
       "      <td>349</td>\n",
       "    </tr>\n",
       "    <tr>\n",
       "      <th>MS</th>\n",
       "      <td>46</td>\n",
       "    </tr>\n",
       "  </tbody>\n",
       "</table>\n",
       "</div>"
      ],
      "text/plain": [
       "    school\n",
       "GP     349\n",
       "MS      46"
      ]
     },
     "metadata": {},
     "output_type": "display_data"
    },
    {
     "name": "stdout",
     "output_type": "stream",
     "text": [
      "Уникальных значений: 2\n",
      "<class 'pandas.core.frame.DataFrame'>\n",
      "RangeIndex: 395 entries, 0 to 394\n",
      "Data columns (total 1 columns):\n",
      " #   Column  Non-Null Count  Dtype \n",
      "---  ------  --------------  ----- \n",
      " 0   school  395 non-null    object\n",
      "dtypes: object(1)\n",
      "memory usage: 3.2+ KB\n",
      "\n",
      "========================================\n",
      "График:\n"
     ]
    },
    {
     "data": {
      "image/png": "[encoded data removed]",
      "text/plain": [
       "<Figure size 432x288 with 1 Axes>"
      ]
     },
     "metadata": {
      "needs_background": "light"
     },
     "output_type": "display_data"
    }
   ],
   "source": [
    "show_info(students, 'school')"
   ]
  },
  {
   "cell_type": "markdown",
   "id": "868224b6",
   "metadata": {},
   "source": [
    "1. *Не имеет пропусков*\n",
    "2. *Большинство учеников (88%) из школы GP*\n",
    "3. *Чисто информативная колонка, отфильтровать не получится*"
   ]
  },
  {
   "cell_type": "markdown",
   "id": "10dcdd14",
   "metadata": {},
   "source": [
    "#### SEX"
   ]
  },
  {
   "cell_type": "code",
   "execution_count": 6,
   "id": "ceb7fc6f",
   "metadata": {},
   "outputs": [
    {
     "name": "stdout",
     "output_type": "stream",
     "text": [
      "========================================\n",
      "Вывод значений:\n"
     ]
    },
    {
     "data": {
      "text/plain": [
       "F    208\n",
       "M    187\n",
       "Name: sex, dtype: int64"
      ]
     },
     "metadata": {},
     "output_type": "display_data"
    },
    {
     "name": "stdout",
     "output_type": "stream",
     "text": [
      "========================================\n",
      "Вывод процентного соотношения:\n"
     ]
    },
    {
     "data": {
      "text/plain": [
       "F    0.526582\n",
       "M    0.473418\n",
       "Name: sex, dtype: float64"
      ]
     },
     "metadata": {},
     "output_type": "display_data"
    },
    {
     "name": "stdout",
     "output_type": "stream",
     "text": [
      "========================================\n",
      "Вывод общей информации:\n"
     ]
    },
    {
     "data": {
      "text/html": [
       "<div>\n",
       "<style scoped>\n",
       "    .dataframe tbody tr th:only-of-type {\n",
       "        vertical-align: middle;\n",
       "    }\n",
       "\n",
       "    .dataframe tbody tr th {\n",
       "        vertical-align: top;\n",
       "    }\n",
       "\n",
       "    .dataframe thead th {\n",
       "        text-align: right;\n",
       "    }\n",
       "</style>\n",
       "<table border=\"1\" class=\"dataframe\">\n",
       "  <thead>\n",
       "    <tr style=\"text-align: right;\">\n",
       "      <th></th>\n",
       "      <th>sex</th>\n",
       "    </tr>\n",
       "  </thead>\n",
       "  <tbody>\n",
       "    <tr>\n",
       "      <th>F</th>\n",
       "      <td>208</td>\n",
       "    </tr>\n",
       "    <tr>\n",
       "      <th>M</th>\n",
       "      <td>187</td>\n",
       "    </tr>\n",
       "  </tbody>\n",
       "</table>\n",
       "</div>"
      ],
      "text/plain": [
       "   sex\n",
       "F  208\n",
       "M  187"
      ]
     },
     "metadata": {},
     "output_type": "display_data"
    },
    {
     "name": "stdout",
     "output_type": "stream",
     "text": [
      "Уникальных значений: 2\n",
      "<class 'pandas.core.frame.DataFrame'>\n",
      "RangeIndex: 395 entries, 0 to 394\n",
      "Data columns (total 1 columns):\n",
      " #   Column  Non-Null Count  Dtype \n",
      "---  ------  --------------  ----- \n",
      " 0   sex     395 non-null    object\n",
      "dtypes: object(1)\n",
      "memory usage: 3.2+ KB\n",
      "\n",
      "========================================\n",
      "График:\n"
     ]
    },
    {
     "data": {
      "image/png": "[encoded data removed]",
      "text/plain": [
       "<Figure size 432x288 with 1 Axes>"
      ]
     },
     "metadata": {
      "needs_background": "light"
     },
     "output_type": "display_data"
    }
   ],
   "source": [
    "show_info(students, 'sex')"
   ]
  },
  {
   "cell_type": "markdown",
   "id": "db95a6c4",
   "metadata": {},
   "source": [
    "1. *Не имеет пропусков*\n",
    "2. *Мужчин чуть менее половины (47%)*\n",
    "3. *Не фильтруем*"
   ]
  },
  {
   "cell_type": "markdown",
   "id": "6c89a329",
   "metadata": {},
   "source": [
    "#### AGE"
   ]
  },
  {
   "cell_type": "code",
   "execution_count": 7,
   "id": "90f735b8",
   "metadata": {},
   "outputs": [
    {
     "name": "stdout",
     "output_type": "stream",
     "text": [
      "========================================\n",
      "Вывод значений:\n"
     ]
    },
    {
     "data": {
      "text/plain": [
       "16    104\n",
       "17     98\n",
       "15     82\n",
       "18     82\n",
       "19     24\n",
       "20      3\n",
       "21      1\n",
       "22      1\n",
       "Name: age, dtype: int64"
      ]
     },
     "metadata": {},
     "output_type": "display_data"
    },
    {
     "name": "stdout",
     "output_type": "stream",
     "text": [
      "========================================\n",
      "Вывод процентного соотношения:\n"
     ]
    },
    {
     "data": {
      "text/plain": [
       "16    0.263291\n",
       "17    0.248101\n",
       "15    0.207595\n",
       "18    0.207595\n",
       "19    0.060759\n",
       "20    0.007595\n",
       "21    0.002532\n",
       "22    0.002532\n",
       "Name: age, dtype: float64"
      ]
     },
     "metadata": {},
     "output_type": "display_data"
    },
    {
     "name": "stdout",
     "output_type": "stream",
     "text": [
      "========================================\n",
      "Вывод общей информации:\n"
     ]
    },
    {
     "data": {
      "text/html": [
       "<div>\n",
       "<style scoped>\n",
       "    .dataframe tbody tr th:only-of-type {\n",
       "        vertical-align: middle;\n",
       "    }\n",
       "\n",
       "    .dataframe tbody tr th {\n",
       "        vertical-align: top;\n",
       "    }\n",
       "\n",
       "    .dataframe thead th {\n",
       "        text-align: right;\n",
       "    }\n",
       "</style>\n",
       "<table border=\"1\" class=\"dataframe\">\n",
       "  <thead>\n",
       "    <tr style=\"text-align: right;\">\n",
       "      <th></th>\n",
       "      <th>age</th>\n",
       "    </tr>\n",
       "  </thead>\n",
       "  <tbody>\n",
       "    <tr>\n",
       "      <th>16</th>\n",
       "      <td>104</td>\n",
       "    </tr>\n",
       "    <tr>\n",
       "      <th>17</th>\n",
       "      <td>98</td>\n",
       "    </tr>\n",
       "    <tr>\n",
       "      <th>15</th>\n",
       "      <td>82</td>\n",
       "    </tr>\n",
       "    <tr>\n",
       "      <th>18</th>\n",
       "      <td>82</td>\n",
       "    </tr>\n",
       "    <tr>\n",
       "      <th>19</th>\n",
       "      <td>24</td>\n",
       "    </tr>\n",
       "    <tr>\n",
       "      <th>20</th>\n",
       "      <td>3</td>\n",
       "    </tr>\n",
       "    <tr>\n",
       "      <th>21</th>\n",
       "      <td>1</td>\n",
       "    </tr>\n",
       "    <tr>\n",
       "      <th>22</th>\n",
       "      <td>1</td>\n",
       "    </tr>\n",
       "  </tbody>\n",
       "</table>\n",
       "</div>"
      ],
      "text/plain": [
       "    age\n",
       "16  104\n",
       "17   98\n",
       "15   82\n",
       "18   82\n",
       "19   24\n",
       "20    3\n",
       "21    1\n",
       "22    1"
      ]
     },
     "metadata": {},
     "output_type": "display_data"
    },
    {
     "name": "stdout",
     "output_type": "stream",
     "text": [
      "Уникальных значений: 8\n",
      "<class 'pandas.core.frame.DataFrame'>\n",
      "RangeIndex: 395 entries, 0 to 394\n",
      "Data columns (total 1 columns):\n",
      " #   Column  Non-Null Count  Dtype\n",
      "---  ------  --------------  -----\n",
      " 0   age     395 non-null    int64\n",
      "dtypes: int64(1)\n",
      "memory usage: 3.2 KB\n",
      "\n",
      "========================================\n",
      "Первичная статистика (квартили, границы):\n",
      "Среднее значение: 16.696202531645568\n",
      " 25-й перцентиль: 16.0\n",
      " 50-й перцентиль: 17.0\n",
      " 75-й перцентиль: 18.0\n",
      " IQR: 2.0\n",
      " Границы выбросов: [13.0, 21.0]\n",
      "\n",
      "\n",
      "========================================\n",
      "График:\n"
     ]
    },
    {
     "data": {
      "image/png": "[encoded data removed]",
      "text/plain": [
       "<Figure size 432x288 with 1 Axes>"
      ]
     },
     "metadata": {
      "needs_background": "light"
     },
     "output_type": "display_data"
    }
   ],
   "source": [
    "show_info(students, 'age')"
   ]
  },
  {
   "cell_type": "markdown",
   "id": "576bf888",
   "metadata": {},
   "source": [
    "*По результатам видно, что есть выброс. Так как выброс всего один, то его значением можно пренебречь*"
   ]
  },
  {
   "cell_type": "code",
   "execution_count": 8,
   "id": "506c347e",
   "metadata": {},
   "outputs": [
    {
     "data": {
      "text/plain": [
       "count    394.000000\n",
       "mean      16.682741\n",
       "std        1.249267\n",
       "min       15.000000\n",
       "25%       16.000000\n",
       "50%       17.000000\n",
       "75%       18.000000\n",
       "max       21.000000\n",
       "Name: age, dtype: float64"
      ]
     },
     "execution_count": 8,
     "metadata": {},
     "output_type": "execute_result"
    }
   ],
   "source": [
    "students = students[students.age <= 21]\n",
    "\n",
    "students.age.describe()"
   ]
  },
  {
   "cell_type": "markdown",
   "id": "469589b7",
   "metadata": {},
   "source": [
    "#### ADDRESS"
   ]
  },
  {
   "cell_type": "code",
   "execution_count": 9,
   "id": "657cf39b",
   "metadata": {},
   "outputs": [
    {
     "name": "stdout",
     "output_type": "stream",
     "text": [
      "========================================\n",
      "Вывод значений:\n"
     ]
    },
    {
     "data": {
      "text/plain": [
       "U      294\n",
       "R       83\n",
       "NaN     17\n",
       "Name: address, dtype: int64"
      ]
     },
     "metadata": {},
     "output_type": "display_data"
    },
    {
     "name": "stdout",
     "output_type": "stream",
     "text": [
      "========================================\n",
      "Вывод процентного соотношения:\n"
     ]
    },
    {
     "data": {
      "text/plain": [
       "U      0.746193\n",
       "R      0.210660\n",
       "NaN    0.043147\n",
       "Name: address, dtype: float64"
      ]
     },
     "metadata": {},
     "output_type": "display_data"
    },
    {
     "name": "stdout",
     "output_type": "stream",
     "text": [
      "========================================\n",
      "Вывод общей информации:\n"
     ]
    },
    {
     "data": {
      "text/html": [
       "<div>\n",
       "<style scoped>\n",
       "    .dataframe tbody tr th:only-of-type {\n",
       "        vertical-align: middle;\n",
       "    }\n",
       "\n",
       "    .dataframe tbody tr th {\n",
       "        vertical-align: top;\n",
       "    }\n",
       "\n",
       "    .dataframe thead th {\n",
       "        text-align: right;\n",
       "    }\n",
       "</style>\n",
       "<table border=\"1\" class=\"dataframe\">\n",
       "  <thead>\n",
       "    <tr style=\"text-align: right;\">\n",
       "      <th></th>\n",
       "      <th>address</th>\n",
       "    </tr>\n",
       "  </thead>\n",
       "  <tbody>\n",
       "    <tr>\n",
       "      <th>U</th>\n",
       "      <td>294</td>\n",
       "    </tr>\n",
       "    <tr>\n",
       "      <th>R</th>\n",
       "      <td>83</td>\n",
       "    </tr>\n",
       "  </tbody>\n",
       "</table>\n",
       "</div>"
      ],
      "text/plain": [
       "   address\n",
       "U      294\n",
       "R       83"
      ]
     },
     "metadata": {},
     "output_type": "display_data"
    },
    {
     "name": "stdout",
     "output_type": "stream",
     "text": [
      "Уникальных значений: 2\n",
      "<class 'pandas.core.frame.DataFrame'>\n",
      "Int64Index: 394 entries, 0 to 394\n",
      "Data columns (total 1 columns):\n",
      " #   Column   Non-Null Count  Dtype \n",
      "---  ------   --------------  ----- \n",
      " 0   address  377 non-null    object\n",
      "dtypes: object(1)\n",
      "memory usage: 6.2+ KB\n",
      "\n",
      "========================================\n",
      "График:\n"
     ]
    },
    {
     "data": {
      "image/png": "[encoded data removed]",
      "text/plain": [
       "<Figure size 432x288 with 1 Axes>"
      ]
     },
     "metadata": {
      "needs_background": "light"
     },
     "output_type": "display_data"
    }
   ],
   "source": [
    "show_info(students, 'address')"
   ]
  },
  {
   "cell_type": "markdown",
   "id": "de56af77",
   "metadata": {},
   "source": [
    "1. Не удивительно, что большинство учащихся живут в городе\n",
    "2. Есть пустые значения. Хорошо, когда человек стремится к знаниям не смотря на отсутствие места проживания!\n",
    "3. Пустых значений не так мало, чтобы ими можно было пренебречь. Заменим пустые значения на Моду"
   ]
  },
  {
   "cell_type": "code",
   "execution_count": 10,
   "id": "54d511c3",
   "metadata": {},
   "outputs": [
    {
     "name": "stdout",
     "output_type": "stream",
     "text": [
      "========================================\n",
      "Вывод значений:\n"
     ]
    },
    {
     "data": {
      "text/plain": [
       "U    311\n",
       "R     83\n",
       "Name: address, dtype: int64"
      ]
     },
     "metadata": {},
     "output_type": "display_data"
    },
    {
     "name": "stdout",
     "output_type": "stream",
     "text": [
      "========================================\n",
      "Вывод процентного соотношения:\n"
     ]
    },
    {
     "data": {
      "text/plain": [
       "U    0.78934\n",
       "R    0.21066\n",
       "Name: address, dtype: float64"
      ]
     },
     "metadata": {},
     "output_type": "display_data"
    },
    {
     "name": "stdout",
     "output_type": "stream",
     "text": [
      "========================================\n",
      "Вывод общей информации:\n"
     ]
    },
    {
     "data": {
      "text/html": [
       "<div>\n",
       "<style scoped>\n",
       "    .dataframe tbody tr th:only-of-type {\n",
       "        vertical-align: middle;\n",
       "    }\n",
       "\n",
       "    .dataframe tbody tr th {\n",
       "        vertical-align: top;\n",
       "    }\n",
       "\n",
       "    .dataframe thead th {\n",
       "        text-align: right;\n",
       "    }\n",
       "</style>\n",
       "<table border=\"1\" class=\"dataframe\">\n",
       "  <thead>\n",
       "    <tr style=\"text-align: right;\">\n",
       "      <th></th>\n",
       "      <th>address</th>\n",
       "    </tr>\n",
       "  </thead>\n",
       "  <tbody>\n",
       "    <tr>\n",
       "      <th>U</th>\n",
       "      <td>311</td>\n",
       "    </tr>\n",
       "    <tr>\n",
       "      <th>R</th>\n",
       "      <td>83</td>\n",
       "    </tr>\n",
       "  </tbody>\n",
       "</table>\n",
       "</div>"
      ],
      "text/plain": [
       "   address\n",
       "U      311\n",
       "R       83"
      ]
     },
     "metadata": {},
     "output_type": "display_data"
    },
    {
     "name": "stdout",
     "output_type": "stream",
     "text": [
      "Уникальных значений: 2\n",
      "<class 'pandas.core.frame.DataFrame'>\n",
      "Int64Index: 394 entries, 0 to 394\n",
      "Data columns (total 1 columns):\n",
      " #   Column   Non-Null Count  Dtype \n",
      "---  ------   --------------  ----- \n",
      " 0   address  394 non-null    object\n",
      "dtypes: object(1)\n",
      "memory usage: 6.2+ KB\n",
      "\n",
      "========================================\n",
      "График:\n"
     ]
    },
    {
     "data": {
      "image/png": "[encoded data removed]",
      "text/plain": [
       "<Figure size 432x288 with 1 Axes>"
      ]
     },
     "metadata": {
      "needs_background": "light"
     },
     "output_type": "display_data"
    }
   ],
   "source": [
    "students = refill_nan(students, 'address')\n",
    "\n",
    "show_info(students, 'address')"
   ]
  },
  {
   "cell_type": "markdown",
   "id": "e306ac98",
   "metadata": {},
   "source": [
    "#### FAMSIZE"
   ]
  },
  {
   "cell_type": "code",
   "execution_count": 11,
   "id": "075c2230",
   "metadata": {},
   "outputs": [
    {
     "name": "stdout",
     "output_type": "stream",
     "text": [
      "========================================\n",
      "Вывод значений:\n"
     ]
    },
    {
     "data": {
      "text/plain": [
       "GT3    260\n",
       "LE3    107\n",
       "NaN     27\n",
       "Name: famsize, dtype: int64"
      ]
     },
     "metadata": {},
     "output_type": "display_data"
    },
    {
     "name": "stdout",
     "output_type": "stream",
     "text": [
      "========================================\n",
      "Вывод процентного соотношения:\n"
     ]
    },
    {
     "data": {
      "text/plain": [
       "GT3    0.659898\n",
       "LE3    0.271574\n",
       "NaN    0.068528\n",
       "Name: famsize, dtype: float64"
      ]
     },
     "metadata": {},
     "output_type": "display_data"
    },
    {
     "name": "stdout",
     "output_type": "stream",
     "text": [
      "========================================\n",
      "Вывод общей информации:\n"
     ]
    },
    {
     "data": {
      "text/html": [
       "<div>\n",
       "<style scoped>\n",
       "    .dataframe tbody tr th:only-of-type {\n",
       "        vertical-align: middle;\n",
       "    }\n",
       "\n",
       "    .dataframe tbody tr th {\n",
       "        vertical-align: top;\n",
       "    }\n",
       "\n",
       "    .dataframe thead th {\n",
       "        text-align: right;\n",
       "    }\n",
       "</style>\n",
       "<table border=\"1\" class=\"dataframe\">\n",
       "  <thead>\n",
       "    <tr style=\"text-align: right;\">\n",
       "      <th></th>\n",
       "      <th>famsize</th>\n",
       "    </tr>\n",
       "  </thead>\n",
       "  <tbody>\n",
       "    <tr>\n",
       "      <th>GT3</th>\n",
       "      <td>260</td>\n",
       "    </tr>\n",
       "    <tr>\n",
       "      <th>LE3</th>\n",
       "      <td>107</td>\n",
       "    </tr>\n",
       "  </tbody>\n",
       "</table>\n",
       "</div>"
      ],
      "text/plain": [
       "     famsize\n",
       "GT3      260\n",
       "LE3      107"
      ]
     },
     "metadata": {},
     "output_type": "display_data"
    },
    {
     "name": "stdout",
     "output_type": "stream",
     "text": [
      "Уникальных значений: 2\n",
      "<class 'pandas.core.frame.DataFrame'>\n",
      "Int64Index: 394 entries, 0 to 394\n",
      "Data columns (total 1 columns):\n",
      " #   Column   Non-Null Count  Dtype \n",
      "---  ------   --------------  ----- \n",
      " 0   famsize  367 non-null    object\n",
      "dtypes: object(1)\n",
      "memory usage: 6.2+ KB\n",
      "\n",
      "========================================\n",
      "График:\n"
     ]
    },
    {
     "data": {
      "image/png": "[encoded data removed]",
      "text/plain": [
       "<Figure size 432x288 with 1 Axes>"
      ]
     },
     "metadata": {
      "needs_background": "light"
     },
     "output_type": "display_data"
    }
   ],
   "source": [
    "show_info(students, 'famsize')"
   ]
  },
  {
   "cell_type": "markdown",
   "id": "9da7ae28",
   "metadata": {},
   "source": [
    "1. Присутствуют пустые значения, их количество более 5%. Для целостностности статистики оставим\n",
    "2. Большинство семей состоит из 4-ех человек и более"
   ]
  },
  {
   "cell_type": "markdown",
   "id": "8a93f5fa",
   "metadata": {},
   "source": [
    "#### PSTATUS"
   ]
  },
  {
   "cell_type": "code",
   "execution_count": 12,
   "id": "00e3aceb",
   "metadata": {},
   "outputs": [
    {
     "name": "stdout",
     "output_type": "stream",
     "text": [
      "========================================\n",
      "Вывод значений:\n"
     ]
    },
    {
     "data": {
      "text/plain": [
       "T      313\n",
       "NaN     45\n",
       "A       36\n",
       "Name: pstatus, dtype: int64"
      ]
     },
     "metadata": {},
     "output_type": "display_data"
    },
    {
     "name": "stdout",
     "output_type": "stream",
     "text": [
      "========================================\n",
      "Вывод процентного соотношения:\n"
     ]
    },
    {
     "data": {
      "text/plain": [
       "T      0.794416\n",
       "NaN    0.114213\n",
       "A      0.091371\n",
       "Name: pstatus, dtype: float64"
      ]
     },
     "metadata": {},
     "output_type": "display_data"
    },
    {
     "name": "stdout",
     "output_type": "stream",
     "text": [
      "========================================\n",
      "Вывод общей информации:\n"
     ]
    },
    {
     "data": {
      "text/html": [
       "<div>\n",
       "<style scoped>\n",
       "    .dataframe tbody tr th:only-of-type {\n",
       "        vertical-align: middle;\n",
       "    }\n",
       "\n",
       "    .dataframe tbody tr th {\n",
       "        vertical-align: top;\n",
       "    }\n",
       "\n",
       "    .dataframe thead th {\n",
       "        text-align: right;\n",
       "    }\n",
       "</style>\n",
       "<table border=\"1\" class=\"dataframe\">\n",
       "  <thead>\n",
       "    <tr style=\"text-align: right;\">\n",
       "      <th></th>\n",
       "      <th>pstatus</th>\n",
       "    </tr>\n",
       "  </thead>\n",
       "  <tbody>\n",
       "    <tr>\n",
       "      <th>T</th>\n",
       "      <td>313</td>\n",
       "    </tr>\n",
       "    <tr>\n",
       "      <th>A</th>\n",
       "      <td>36</td>\n",
       "    </tr>\n",
       "  </tbody>\n",
       "</table>\n",
       "</div>"
      ],
      "text/plain": [
       "   pstatus\n",
       "T      313\n",
       "A       36"
      ]
     },
     "metadata": {},
     "output_type": "display_data"
    },
    {
     "name": "stdout",
     "output_type": "stream",
     "text": [
      "Уникальных значений: 2\n",
      "<class 'pandas.core.frame.DataFrame'>\n",
      "Int64Index: 394 entries, 0 to 394\n",
      "Data columns (total 1 columns):\n",
      " #   Column   Non-Null Count  Dtype \n",
      "---  ------   --------------  ----- \n",
      " 0   pstatus  349 non-null    object\n",
      "dtypes: object(1)\n",
      "memory usage: 6.2+ KB\n",
      "\n",
      "========================================\n",
      "График:\n"
     ]
    },
    {
     "data": {
      "image/png": "[encoded data removed]",
      "text/plain": [
       "<Figure size 432x288 with 1 Axes>"
      ]
     },
     "metadata": {
      "needs_background": "light"
     },
     "output_type": "display_data"
    }
   ],
   "source": [
    "show_info(students, 'pstatus')"
   ]
  },
  {
   "cell_type": "markdown",
   "id": "32aefd16",
   "metadata": {},
   "source": [
    "1. Преобладает значение T.\n",
    "2. Пустых значений не так мало, чтобы ими пренебрегать/заменять\n",
    "3. Пустых значений больше, чем A. Вполне возможно, что так и должно быть.\n",
    "4. Пустые значения удалять/заменять не будем"
   ]
  },
  {
   "cell_type": "markdown",
   "id": "a9fc0d25",
   "metadata": {},
   "source": [
    "#### MEDU"
   ]
  },
  {
   "cell_type": "code",
   "execution_count": 13,
   "id": "48ed0257",
   "metadata": {},
   "outputs": [
    {
     "name": "stdout",
     "output_type": "stream",
     "text": [
      "========================================\n",
      "Вывод значений:\n"
     ]
    },
    {
     "data": {
      "text/plain": [
       "4.0    131\n",
       "2.0    102\n",
       "3.0     96\n",
       "1.0     59\n",
       "NaN      3\n",
       "0.0      3\n",
       "Name: medu, dtype: int64"
      ]
     },
     "metadata": {},
     "output_type": "display_data"
    },
    {
     "name": "stdout",
     "output_type": "stream",
     "text": [
      "========================================\n",
      "Вывод процентного соотношения:\n"
     ]
    },
    {
     "data": {
      "text/plain": [
       "4.0    0.332487\n",
       "2.0    0.258883\n",
       "3.0    0.243655\n",
       "1.0    0.149746\n",
       "NaN    0.007614\n",
       "0.0    0.007614\n",
       "Name: medu, dtype: float64"
      ]
     },
     "metadata": {},
     "output_type": "display_data"
    },
    {
     "name": "stdout",
     "output_type": "stream",
     "text": [
      "========================================\n",
      "Вывод общей информации:\n"
     ]
    },
    {
     "data": {
      "text/html": [
       "<div>\n",
       "<style scoped>\n",
       "    .dataframe tbody tr th:only-of-type {\n",
       "        vertical-align: middle;\n",
       "    }\n",
       "\n",
       "    .dataframe tbody tr th {\n",
       "        vertical-align: top;\n",
       "    }\n",
       "\n",
       "    .dataframe thead th {\n",
       "        text-align: right;\n",
       "    }\n",
       "</style>\n",
       "<table border=\"1\" class=\"dataframe\">\n",
       "  <thead>\n",
       "    <tr style=\"text-align: right;\">\n",
       "      <th></th>\n",
       "      <th>medu</th>\n",
       "    </tr>\n",
       "  </thead>\n",
       "  <tbody>\n",
       "    <tr>\n",
       "      <th>4.0</th>\n",
       "      <td>131</td>\n",
       "    </tr>\n",
       "    <tr>\n",
       "      <th>2.0</th>\n",
       "      <td>102</td>\n",
       "    </tr>\n",
       "    <tr>\n",
       "      <th>3.0</th>\n",
       "      <td>96</td>\n",
       "    </tr>\n",
       "    <tr>\n",
       "      <th>1.0</th>\n",
       "      <td>59</td>\n",
       "    </tr>\n",
       "    <tr>\n",
       "      <th>0.0</th>\n",
       "      <td>3</td>\n",
       "    </tr>\n",
       "  </tbody>\n",
       "</table>\n",
       "</div>"
      ],
      "text/plain": [
       "     medu\n",
       "4.0   131\n",
       "2.0   102\n",
       "3.0    96\n",
       "1.0    59\n",
       "0.0     3"
      ]
     },
     "metadata": {},
     "output_type": "display_data"
    },
    {
     "name": "stdout",
     "output_type": "stream",
     "text": [
      "Уникальных значений: 5\n",
      "<class 'pandas.core.frame.DataFrame'>\n",
      "Int64Index: 394 entries, 0 to 394\n",
      "Data columns (total 1 columns):\n",
      " #   Column  Non-Null Count  Dtype  \n",
      "---  ------  --------------  -----  \n",
      " 0   medu    391 non-null    float64\n",
      "dtypes: float64(1)\n",
      "memory usage: 6.2 KB\n",
      "\n",
      "========================================\n",
      "Первичная статистика (квартили, границы):\n",
      "Среднее значение: 2.7493606138107416\n",
      " 25-й перцентиль: 2.0\n",
      " 50-й перцентиль: 3.0\n",
      " 75-й перцентиль: 4.0\n",
      " IQR: 2.0\n",
      " Границы выбросов: [-1.0, 7.0]\n",
      "\n",
      "\n",
      "========================================\n",
      "График:\n"
     ]
    },
    {
     "data": {
      "image/png": "[encoded data removed]",
      "text/plain": [
       "<Figure size 432x288 with 1 Axes>"
      ]
     },
     "metadata": {
      "needs_background": "light"
     },
     "output_type": "display_data"
    }
   ],
   "source": [
    "show_info(students, 'medu')"
   ]
  },
  {
   "cell_type": "markdown",
   "id": "ec64cd5f",
   "metadata": {},
   "source": [
    "1. Выбросов нет\n",
    "2. Пустые значения присутствуют, их мало, заменим на медиану.\n",
    "3. Большинство значений - 4. Значит матерей с высшим образованием больше всех. Интересно, влияет ли этот параметр на успеваемость ребенка? (Проверим позже)"
   ]
  },
  {
   "cell_type": "markdown",
   "id": "f1721307",
   "metadata": {},
   "source": [
    "#### FEDU"
   ]
  },
  {
   "cell_type": "code",
   "execution_count": 14,
   "id": "7e25bae6",
   "metadata": {},
   "outputs": [
    {
     "name": "stdout",
     "output_type": "stream",
     "text": [
      "========================================\n",
      "Вывод значений:\n"
     ]
    },
    {
     "data": {
      "text/plain": [
       "2.0     106\n",
       "3.0      96\n",
       "4.0      88\n",
       "1.0      77\n",
       "NaN      24\n",
       "0.0       2\n",
       "40.0      1\n",
       "Name: fedu, dtype: int64"
      ]
     },
     "metadata": {},
     "output_type": "display_data"
    },
    {
     "name": "stdout",
     "output_type": "stream",
     "text": [
      "========================================\n",
      "Вывод процентного соотношения:\n"
     ]
    },
    {
     "data": {
      "text/plain": [
       "2.0     0.269036\n",
       "3.0     0.243655\n",
       "4.0     0.223350\n",
       "1.0     0.195431\n",
       "NaN     0.060914\n",
       "0.0     0.005076\n",
       "40.0    0.002538\n",
       "Name: fedu, dtype: float64"
      ]
     },
     "metadata": {},
     "output_type": "display_data"
    },
    {
     "name": "stdout",
     "output_type": "stream",
     "text": [
      "========================================\n",
      "Вывод общей информации:\n"
     ]
    },
    {
     "data": {
      "text/html": [
       "<div>\n",
       "<style scoped>\n",
       "    .dataframe tbody tr th:only-of-type {\n",
       "        vertical-align: middle;\n",
       "    }\n",
       "\n",
       "    .dataframe tbody tr th {\n",
       "        vertical-align: top;\n",
       "    }\n",
       "\n",
       "    .dataframe thead th {\n",
       "        text-align: right;\n",
       "    }\n",
       "</style>\n",
       "<table border=\"1\" class=\"dataframe\">\n",
       "  <thead>\n",
       "    <tr style=\"text-align: right;\">\n",
       "      <th></th>\n",
       "      <th>fedu</th>\n",
       "    </tr>\n",
       "  </thead>\n",
       "  <tbody>\n",
       "    <tr>\n",
       "      <th>2.0</th>\n",
       "      <td>106</td>\n",
       "    </tr>\n",
       "    <tr>\n",
       "      <th>3.0</th>\n",
       "      <td>96</td>\n",
       "    </tr>\n",
       "    <tr>\n",
       "      <th>4.0</th>\n",
       "      <td>88</td>\n",
       "    </tr>\n",
       "    <tr>\n",
       "      <th>1.0</th>\n",
       "      <td>77</td>\n",
       "    </tr>\n",
       "    <tr>\n",
       "      <th>0.0</th>\n",
       "      <td>2</td>\n",
       "    </tr>\n",
       "    <tr>\n",
       "      <th>40.0</th>\n",
       "      <td>1</td>\n",
       "    </tr>\n",
       "  </tbody>\n",
       "</table>\n",
       "</div>"
      ],
      "text/plain": [
       "      fedu\n",
       "2.0    106\n",
       "3.0     96\n",
       "4.0     88\n",
       "1.0     77\n",
       "0.0      2\n",
       "40.0     1"
      ]
     },
     "metadata": {},
     "output_type": "display_data"
    },
    {
     "name": "stdout",
     "output_type": "stream",
     "text": [
      "Уникальных значений: 6\n",
      "<class 'pandas.core.frame.DataFrame'>\n",
      "Int64Index: 394 entries, 0 to 394\n",
      "Data columns (total 1 columns):\n",
      " #   Column  Non-Null Count  Dtype  \n",
      "---  ------  --------------  -----  \n",
      " 0   fedu    370 non-null    float64\n",
      "dtypes: float64(1)\n",
      "memory usage: 6.2 KB\n",
      "\n",
      "========================================\n",
      "Первичная статистика (квартили, границы):\n",
      "Среднее значение: 2.618918918918919\n",
      " 25-й перцентиль: 2.0\n",
      " 50-й перцентиль: 2.5\n",
      " 75-й перцентиль: 3.0\n",
      " IQR: 1.0\n",
      " Границы выбросов: [0.5, 4.5]\n",
      "\n",
      "\n",
      "========================================\n",
      "График:\n"
     ]
    },
    {
     "data": {
      "image/png": "[encoded data removed]",
      "text/plain": [
       "<Figure size 432x288 with 1 Axes>"
      ]
     },
     "metadata": {
      "needs_background": "light"
     },
     "output_type": "display_data"
    }
   ],
   "source": [
    "show_info(students, 'fedu')"
   ]
  },
  {
   "cell_type": "markdown",
   "id": "2a0c68ef",
   "metadata": {},
   "source": [
    "1. Имеет выбросы.\n",
    "    * По условию значения должны быть от 0 до 4, но есть одно значение 40. Скорее всего здесь ошибка, имелось ввиду значение 4.\n",
    "    * Есть значение 0. Но по условию данное значение допустимо, сперва заменим выброс 40, потом перепроверим данные. \n",
    "2. Содержит пустые значения, их более 5%\n",
    "3. Здесь мы наблюдаем иную картину. Большинство отцов имеют образование в 5-9 классов. Посмотрим потом, как это будет влиять на успеваемость ребенка"
   ]
  },
  {
   "cell_type": "code",
   "execution_count": 15,
   "id": "b440a2c8",
   "metadata": {},
   "outputs": [
    {
     "name": "stdout",
     "output_type": "stream",
     "text": [
      "========================================\n",
      "Вывод значений:\n"
     ]
    },
    {
     "name": "stderr",
     "output_type": "stream",
     "text": [
      "<ipython-input-15-5e8cbc82f861>:1: UserWarning: Pandas doesn't allow columns to be created via a new attribute name - see https://pandas.pydata.org/pandas-docs/stable/indexing.html#attribute-access\n",
      "  students.Fedu = students.fedu.apply(lambda x: 4 if x == 40 else x)\n"
     ]
    },
    {
     "data": {
      "text/plain": [
       "2.0     106\n",
       "3.0      96\n",
       "4.0      88\n",
       "1.0      77\n",
       "NaN      24\n",
       "0.0       2\n",
       "40.0      1\n",
       "Name: fedu, dtype: int64"
      ]
     },
     "metadata": {},
     "output_type": "display_data"
    },
    {
     "name": "stdout",
     "output_type": "stream",
     "text": [
      "========================================\n",
      "Вывод процентного соотношения:\n"
     ]
    },
    {
     "data": {
      "text/plain": [
       "2.0     0.269036\n",
       "3.0     0.243655\n",
       "4.0     0.223350\n",
       "1.0     0.195431\n",
       "NaN     0.060914\n",
       "0.0     0.005076\n",
       "40.0    0.002538\n",
       "Name: fedu, dtype: float64"
      ]
     },
     "metadata": {},
     "output_type": "display_data"
    },
    {
     "name": "stdout",
     "output_type": "stream",
     "text": [
      "========================================\n",
      "Вывод общей информации:\n"
     ]
    },
    {
     "data": {
      "text/html": [
       "<div>\n",
       "<style scoped>\n",
       "    .dataframe tbody tr th:only-of-type {\n",
       "        vertical-align: middle;\n",
       "    }\n",
       "\n",
       "    .dataframe tbody tr th {\n",
       "        vertical-align: top;\n",
       "    }\n",
       "\n",
       "    .dataframe thead th {\n",
       "        text-align: right;\n",
       "    }\n",
       "</style>\n",
       "<table border=\"1\" class=\"dataframe\">\n",
       "  <thead>\n",
       "    <tr style=\"text-align: right;\">\n",
       "      <th></th>\n",
       "      <th>fedu</th>\n",
       "    </tr>\n",
       "  </thead>\n",
       "  <tbody>\n",
       "    <tr>\n",
       "      <th>2.0</th>\n",
       "      <td>106</td>\n",
       "    </tr>\n",
       "    <tr>\n",
       "      <th>3.0</th>\n",
       "      <td>96</td>\n",
       "    </tr>\n",
       "    <tr>\n",
       "      <th>4.0</th>\n",
       "      <td>88</td>\n",
       "    </tr>\n",
       "    <tr>\n",
       "      <th>1.0</th>\n",
       "      <td>77</td>\n",
       "    </tr>\n",
       "    <tr>\n",
       "      <th>0.0</th>\n",
       "      <td>2</td>\n",
       "    </tr>\n",
       "    <tr>\n",
       "      <th>40.0</th>\n",
       "      <td>1</td>\n",
       "    </tr>\n",
       "  </tbody>\n",
       "</table>\n",
       "</div>"
      ],
      "text/plain": [
       "      fedu\n",
       "2.0    106\n",
       "3.0     96\n",
       "4.0     88\n",
       "1.0     77\n",
       "0.0      2\n",
       "40.0     1"
      ]
     },
     "metadata": {},
     "output_type": "display_data"
    },
    {
     "name": "stdout",
     "output_type": "stream",
     "text": [
      "Уникальных значений: 6\n",
      "<class 'pandas.core.frame.DataFrame'>\n",
      "Int64Index: 394 entries, 0 to 394\n",
      "Data columns (total 1 columns):\n",
      " #   Column  Non-Null Count  Dtype  \n",
      "---  ------  --------------  -----  \n",
      " 0   fedu    370 non-null    float64\n",
      "dtypes: float64(1)\n",
      "memory usage: 6.2 KB\n",
      "\n",
      "========================================\n",
      "Первичная статистика (квартили, границы):\n",
      "Среднее значение: 2.618918918918919\n",
      " 25-й перцентиль: 2.0\n",
      " 50-й перцентиль: 2.5\n",
      " 75-й перцентиль: 3.0\n",
      " IQR: 1.0\n",
      " Границы выбросов: [0.5, 4.5]\n",
      "\n",
      "\n",
      "========================================\n",
      "График:\n"
     ]
    },
    {
     "data": {
      "image/png": "[encoded data removed]",
      "text/plain": [
       "<Figure size 432x288 with 1 Axes>"
      ]
     },
     "metadata": {
      "needs_background": "light"
     },
     "output_type": "display_data"
    }
   ],
   "source": [
    "students.Fedu = students.fedu.apply(lambda x: 4 if x == 40 else x)\n",
    "\n",
    "# А теперь проверим, как данные поменялись\n",
    "show_info(students, 'fedu')"
   ]
  },
  {
   "cell_type": "markdown",
   "id": "8399cdaf",
   "metadata": {},
   "source": [
    "По прежнему значения 0 - выбросы. Их 2. Хоть 2 значения и не внесут большого влияния на статистику, но мы их оставим, т.к. данные значения допустимы по условию"
   ]
  },
  {
   "cell_type": "markdown",
   "id": "10c6fb60",
   "metadata": {},
   "source": [
    "#### MJOB"
   ]
  },
  {
   "cell_type": "code",
   "execution_count": 16,
   "id": "434a1670",
   "metadata": {},
   "outputs": [
    {
     "name": "stdout",
     "output_type": "stream",
     "text": [
      "========================================\n",
      "Вывод значений:\n"
     ]
    },
    {
     "data": {
      "text/plain": [
       "other       133\n",
       "services     97\n",
       "at_home      58\n",
       "teacher      55\n",
       "health       32\n",
       "NaN          19\n",
       "Name: mjob, dtype: int64"
      ]
     },
     "metadata": {},
     "output_type": "display_data"
    },
    {
     "name": "stdout",
     "output_type": "stream",
     "text": [
      "========================================\n",
      "Вывод процентного соотношения:\n"
     ]
    },
    {
     "data": {
      "text/plain": [
       "other       0.337563\n",
       "services    0.246193\n",
       "at_home     0.147208\n",
       "teacher     0.139594\n",
       "health      0.081218\n",
       "NaN         0.048223\n",
       "Name: mjob, dtype: float64"
      ]
     },
     "metadata": {},
     "output_type": "display_data"
    },
    {
     "name": "stdout",
     "output_type": "stream",
     "text": [
      "========================================\n",
      "Вывод общей информации:\n"
     ]
    },
    {
     "data": {
      "text/html": [
       "<div>\n",
       "<style scoped>\n",
       "    .dataframe tbody tr th:only-of-type {\n",
       "        vertical-align: middle;\n",
       "    }\n",
       "\n",
       "    .dataframe tbody tr th {\n",
       "        vertical-align: top;\n",
       "    }\n",
       "\n",
       "    .dataframe thead th {\n",
       "        text-align: right;\n",
       "    }\n",
       "</style>\n",
       "<table border=\"1\" class=\"dataframe\">\n",
       "  <thead>\n",
       "    <tr style=\"text-align: right;\">\n",
       "      <th></th>\n",
       "      <th>mjob</th>\n",
       "    </tr>\n",
       "  </thead>\n",
       "  <tbody>\n",
       "    <tr>\n",
       "      <th>other</th>\n",
       "      <td>133</td>\n",
       "    </tr>\n",
       "    <tr>\n",
       "      <th>services</th>\n",
       "      <td>97</td>\n",
       "    </tr>\n",
       "    <tr>\n",
       "      <th>at_home</th>\n",
       "      <td>58</td>\n",
       "    </tr>\n",
       "    <tr>\n",
       "      <th>teacher</th>\n",
       "      <td>55</td>\n",
       "    </tr>\n",
       "    <tr>\n",
       "      <th>health</th>\n",
       "      <td>32</td>\n",
       "    </tr>\n",
       "  </tbody>\n",
       "</table>\n",
       "</div>"
      ],
      "text/plain": [
       "          mjob\n",
       "other      133\n",
       "services    97\n",
       "at_home     58\n",
       "teacher     55\n",
       "health      32"
      ]
     },
     "metadata": {},
     "output_type": "display_data"
    },
    {
     "name": "stdout",
     "output_type": "stream",
     "text": [
      "Уникальных значений: 5\n",
      "<class 'pandas.core.frame.DataFrame'>\n",
      "Int64Index: 394 entries, 0 to 394\n",
      "Data columns (total 1 columns):\n",
      " #   Column  Non-Null Count  Dtype \n",
      "---  ------  --------------  ----- \n",
      " 0   mjob    375 non-null    object\n",
      "dtypes: object(1)\n",
      "memory usage: 6.2+ KB\n",
      "\n",
      "========================================\n",
      "График:\n"
     ]
    },
    {
     "data": {
      "image/png": "[encoded data removed]",
      "text/plain": [
       "<Figure size 432x288 with 1 Axes>"
      ]
     },
     "metadata": {
      "needs_background": "light"
     },
     "output_type": "display_data"
    }
   ],
   "source": [
    "show_info(students, 'mjob')"
   ]
  },
  {
   "cell_type": "markdown",
   "id": "4fd7d31f",
   "metadata": {},
   "source": [
    "1. Преобладает значение Other\n",
    "2. Есть пустые значения. Т.к. сфера деятельности не известна, то вполне уместно будет заменить на Other."
   ]
  },
  {
   "cell_type": "code",
   "execution_count": 17,
   "id": "614e085e",
   "metadata": {},
   "outputs": [
    {
     "name": "stdout",
     "output_type": "stream",
     "text": [
      "========================================\n",
      "Вывод значений:\n"
     ]
    },
    {
     "data": {
      "text/plain": [
       "other       152\n",
       "services     97\n",
       "at_home      58\n",
       "teacher      55\n",
       "health       32\n",
       "Name: mjob, dtype: int64"
      ]
     },
     "metadata": {},
     "output_type": "display_data"
    },
    {
     "name": "stdout",
     "output_type": "stream",
     "text": [
      "========================================\n",
      "Вывод процентного соотношения:\n"
     ]
    },
    {
     "data": {
      "text/plain": [
       "other       0.385787\n",
       "services    0.246193\n",
       "at_home     0.147208\n",
       "teacher     0.139594\n",
       "health      0.081218\n",
       "Name: mjob, dtype: float64"
      ]
     },
     "metadata": {},
     "output_type": "display_data"
    },
    {
     "name": "stdout",
     "output_type": "stream",
     "text": [
      "========================================\n",
      "Вывод общей информации:\n"
     ]
    },
    {
     "data": {
      "text/html": [
       "<div>\n",
       "<style scoped>\n",
       "    .dataframe tbody tr th:only-of-type {\n",
       "        vertical-align: middle;\n",
       "    }\n",
       "\n",
       "    .dataframe tbody tr th {\n",
       "        vertical-align: top;\n",
       "    }\n",
       "\n",
       "    .dataframe thead th {\n",
       "        text-align: right;\n",
       "    }\n",
       "</style>\n",
       "<table border=\"1\" class=\"dataframe\">\n",
       "  <thead>\n",
       "    <tr style=\"text-align: right;\">\n",
       "      <th></th>\n",
       "      <th>mjob</th>\n",
       "    </tr>\n",
       "  </thead>\n",
       "  <tbody>\n",
       "    <tr>\n",
       "      <th>other</th>\n",
       "      <td>152</td>\n",
       "    </tr>\n",
       "    <tr>\n",
       "      <th>services</th>\n",
       "      <td>97</td>\n",
       "    </tr>\n",
       "    <tr>\n",
       "      <th>at_home</th>\n",
       "      <td>58</td>\n",
       "    </tr>\n",
       "    <tr>\n",
       "      <th>teacher</th>\n",
       "      <td>55</td>\n",
       "    </tr>\n",
       "    <tr>\n",
       "      <th>health</th>\n",
       "      <td>32</td>\n",
       "    </tr>\n",
       "  </tbody>\n",
       "</table>\n",
       "</div>"
      ],
      "text/plain": [
       "          mjob\n",
       "other      152\n",
       "services    97\n",
       "at_home     58\n",
       "teacher     55\n",
       "health      32"
      ]
     },
     "metadata": {},
     "output_type": "display_data"
    },
    {
     "name": "stdout",
     "output_type": "stream",
     "text": [
      "Уникальных значений: 5\n",
      "<class 'pandas.core.frame.DataFrame'>\n",
      "Int64Index: 394 entries, 0 to 394\n",
      "Data columns (total 1 columns):\n",
      " #   Column  Non-Null Count  Dtype \n",
      "---  ------  --------------  ----- \n",
      " 0   mjob    394 non-null    object\n",
      "dtypes: object(1)\n",
      "memory usage: 6.2+ KB\n",
      "\n",
      "========================================\n",
      "График:\n"
     ]
    },
    {
     "data": {
      "image/png": "[encoded data removed]",
      "text/plain": [
       "<Figure size 432x288 with 1 Axes>"
      ]
     },
     "metadata": {
      "needs_background": "light"
     },
     "output_type": "display_data"
    }
   ],
   "source": [
    "students = refill_nan(students, 'mjob')\n",
    "\n",
    "show_info(students, 'mjob')"
   ]
  },
  {
   "cell_type": "markdown",
   "id": "c0a3c887",
   "metadata": {},
   "source": [
    "#### FJOB"
   ]
  },
  {
   "cell_type": "code",
   "execution_count": 18,
   "id": "dc618aaa",
   "metadata": {},
   "outputs": [
    {
     "name": "stdout",
     "output_type": "stream",
     "text": [
      "========================================\n",
      "Вывод значений:\n"
     ]
    },
    {
     "data": {
      "text/plain": [
       "other       197\n",
       "services    101\n",
       "NaN          36\n",
       "teacher      29\n",
       "at_home      16\n",
       "health       15\n",
       "Name: fjob, dtype: int64"
      ]
     },
     "metadata": {},
     "output_type": "display_data"
    },
    {
     "name": "stdout",
     "output_type": "stream",
     "text": [
      "========================================\n",
      "Вывод процентного соотношения:\n"
     ]
    },
    {
     "data": {
      "text/plain": [
       "other       0.500000\n",
       "services    0.256345\n",
       "NaN         0.091371\n",
       "teacher     0.073604\n",
       "at_home     0.040609\n",
       "health      0.038071\n",
       "Name: fjob, dtype: float64"
      ]
     },
     "metadata": {},
     "output_type": "display_data"
    },
    {
     "name": "stdout",
     "output_type": "stream",
     "text": [
      "========================================\n",
      "Вывод общей информации:\n"
     ]
    },
    {
     "data": {
      "text/html": [
       "<div>\n",
       "<style scoped>\n",
       "    .dataframe tbody tr th:only-of-type {\n",
       "        vertical-align: middle;\n",
       "    }\n",
       "\n",
       "    .dataframe tbody tr th {\n",
       "        vertical-align: top;\n",
       "    }\n",
       "\n",
       "    .dataframe thead th {\n",
       "        text-align: right;\n",
       "    }\n",
       "</style>\n",
       "<table border=\"1\" class=\"dataframe\">\n",
       "  <thead>\n",
       "    <tr style=\"text-align: right;\">\n",
       "      <th></th>\n",
       "      <th>fjob</th>\n",
       "    </tr>\n",
       "  </thead>\n",
       "  <tbody>\n",
       "    <tr>\n",
       "      <th>other</th>\n",
       "      <td>197</td>\n",
       "    </tr>\n",
       "    <tr>\n",
       "      <th>services</th>\n",
       "      <td>101</td>\n",
       "    </tr>\n",
       "    <tr>\n",
       "      <th>teacher</th>\n",
       "      <td>29</td>\n",
       "    </tr>\n",
       "    <tr>\n",
       "      <th>at_home</th>\n",
       "      <td>16</td>\n",
       "    </tr>\n",
       "    <tr>\n",
       "      <th>health</th>\n",
       "      <td>15</td>\n",
       "    </tr>\n",
       "  </tbody>\n",
       "</table>\n",
       "</div>"
      ],
      "text/plain": [
       "          fjob\n",
       "other      197\n",
       "services   101\n",
       "teacher     29\n",
       "at_home     16\n",
       "health      15"
      ]
     },
     "metadata": {},
     "output_type": "display_data"
    },
    {
     "name": "stdout",
     "output_type": "stream",
     "text": [
      "Уникальных значений: 5\n",
      "<class 'pandas.core.frame.DataFrame'>\n",
      "Int64Index: 394 entries, 0 to 394\n",
      "Data columns (total 1 columns):\n",
      " #   Column  Non-Null Count  Dtype \n",
      "---  ------  --------------  ----- \n",
      " 0   fjob    358 non-null    object\n",
      "dtypes: object(1)\n",
      "memory usage: 6.2+ KB\n",
      "\n",
      "========================================\n",
      "График:\n"
     ]
    },
    {
     "data": {
      "image/png": "[encoded data removed]",
      "text/plain": [
       "<Figure size 432x288 with 1 Axes>"
      ]
     },
     "metadata": {
      "needs_background": "light"
     },
     "output_type": "display_data"
    }
   ],
   "source": [
    "show_info(students, 'fjob')"
   ]
  },
  {
   "cell_type": "markdown",
   "id": "e339b1b5",
   "metadata": {},
   "source": [
    "Аналогично предыдущей колонке - преобладает Other, заменим NaN на Other"
   ]
  },
  {
   "cell_type": "code",
   "execution_count": 19,
   "id": "3c182ceb",
   "metadata": {},
   "outputs": [
    {
     "name": "stdout",
     "output_type": "stream",
     "text": [
      "========================================\n",
      "Вывод значений:\n"
     ]
    },
    {
     "data": {
      "text/plain": [
       "other       233\n",
       "services    101\n",
       "teacher      29\n",
       "at_home      16\n",
       "health       15\n",
       "Name: fjob, dtype: int64"
      ]
     },
     "metadata": {},
     "output_type": "display_data"
    },
    {
     "name": "stdout",
     "output_type": "stream",
     "text": [
      "========================================\n",
      "Вывод процентного соотношения:\n"
     ]
    },
    {
     "data": {
      "text/plain": [
       "other       0.591371\n",
       "services    0.256345\n",
       "teacher     0.073604\n",
       "at_home     0.040609\n",
       "health      0.038071\n",
       "Name: fjob, dtype: float64"
      ]
     },
     "metadata": {},
     "output_type": "display_data"
    },
    {
     "name": "stdout",
     "output_type": "stream",
     "text": [
      "========================================\n",
      "Вывод общей информации:\n"
     ]
    },
    {
     "data": {
      "text/html": [
       "<div>\n",
       "<style scoped>\n",
       "    .dataframe tbody tr th:only-of-type {\n",
       "        vertical-align: middle;\n",
       "    }\n",
       "\n",
       "    .dataframe tbody tr th {\n",
       "        vertical-align: top;\n",
       "    }\n",
       "\n",
       "    .dataframe thead th {\n",
       "        text-align: right;\n",
       "    }\n",
       "</style>\n",
       "<table border=\"1\" class=\"dataframe\">\n",
       "  <thead>\n",
       "    <tr style=\"text-align: right;\">\n",
       "      <th></th>\n",
       "      <th>fjob</th>\n",
       "    </tr>\n",
       "  </thead>\n",
       "  <tbody>\n",
       "    <tr>\n",
       "      <th>other</th>\n",
       "      <td>233</td>\n",
       "    </tr>\n",
       "    <tr>\n",
       "      <th>services</th>\n",
       "      <td>101</td>\n",
       "    </tr>\n",
       "    <tr>\n",
       "      <th>teacher</th>\n",
       "      <td>29</td>\n",
       "    </tr>\n",
       "    <tr>\n",
       "      <th>at_home</th>\n",
       "      <td>16</td>\n",
       "    </tr>\n",
       "    <tr>\n",
       "      <th>health</th>\n",
       "      <td>15</td>\n",
       "    </tr>\n",
       "  </tbody>\n",
       "</table>\n",
       "</div>"
      ],
      "text/plain": [
       "          fjob\n",
       "other      233\n",
       "services   101\n",
       "teacher     29\n",
       "at_home     16\n",
       "health      15"
      ]
     },
     "metadata": {},
     "output_type": "display_data"
    },
    {
     "name": "stdout",
     "output_type": "stream",
     "text": [
      "Уникальных значений: 5\n",
      "<class 'pandas.core.frame.DataFrame'>\n",
      "Int64Index: 394 entries, 0 to 394\n",
      "Data columns (total 1 columns):\n",
      " #   Column  Non-Null Count  Dtype \n",
      "---  ------  --------------  ----- \n",
      " 0   fjob    394 non-null    object\n",
      "dtypes: object(1)\n",
      "memory usage: 6.2+ KB\n",
      "\n",
      "========================================\n",
      "График:\n"
     ]
    },
    {
     "data": {
      "image/png": "[encoded data removed]",
      "text/plain": [
       "<Figure size 432x288 with 1 Axes>"
      ]
     },
     "metadata": {
      "needs_background": "light"
     },
     "output_type": "display_data"
    }
   ],
   "source": [
    "students = refill_nan(students, 'fjob')\n",
    "\n",
    "show_info(students, 'fjob')"
   ]
  },
  {
   "cell_type": "markdown",
   "id": "743d681f",
   "metadata": {},
   "source": [
    "#### REASON"
   ]
  },
  {
   "cell_type": "code",
   "execution_count": 20,
   "id": "d515870a",
   "metadata": {},
   "outputs": [
    {
     "name": "stdout",
     "output_type": "stream",
     "text": [
      "========================================\n",
      "Вывод значений:\n"
     ]
    },
    {
     "data": {
      "text/plain": [
       "course        137\n",
       "home          104\n",
       "reputation    103\n",
       "other          33\n",
       "NaN            17\n",
       "Name: reason, dtype: int64"
      ]
     },
     "metadata": {},
     "output_type": "display_data"
    },
    {
     "name": "stdout",
     "output_type": "stream",
     "text": [
      "========================================\n",
      "Вывод процентного соотношения:\n"
     ]
    },
    {
     "data": {
      "text/plain": [
       "course        0.347716\n",
       "home          0.263959\n",
       "reputation    0.261421\n",
       "other         0.083756\n",
       "NaN           0.043147\n",
       "Name: reason, dtype: float64"
      ]
     },
     "metadata": {},
     "output_type": "display_data"
    },
    {
     "name": "stdout",
     "output_type": "stream",
     "text": [
      "========================================\n",
      "Вывод общей информации:\n"
     ]
    },
    {
     "data": {
      "text/html": [
       "<div>\n",
       "<style scoped>\n",
       "    .dataframe tbody tr th:only-of-type {\n",
       "        vertical-align: middle;\n",
       "    }\n",
       "\n",
       "    .dataframe tbody tr th {\n",
       "        vertical-align: top;\n",
       "    }\n",
       "\n",
       "    .dataframe thead th {\n",
       "        text-align: right;\n",
       "    }\n",
       "</style>\n",
       "<table border=\"1\" class=\"dataframe\">\n",
       "  <thead>\n",
       "    <tr style=\"text-align: right;\">\n",
       "      <th></th>\n",
       "      <th>reason</th>\n",
       "    </tr>\n",
       "  </thead>\n",
       "  <tbody>\n",
       "    <tr>\n",
       "      <th>course</th>\n",
       "      <td>137</td>\n",
       "    </tr>\n",
       "    <tr>\n",
       "      <th>home</th>\n",
       "      <td>104</td>\n",
       "    </tr>\n",
       "    <tr>\n",
       "      <th>reputation</th>\n",
       "      <td>103</td>\n",
       "    </tr>\n",
       "    <tr>\n",
       "      <th>other</th>\n",
       "      <td>33</td>\n",
       "    </tr>\n",
       "  </tbody>\n",
       "</table>\n",
       "</div>"
      ],
      "text/plain": [
       "            reason\n",
       "course         137\n",
       "home           104\n",
       "reputation     103\n",
       "other           33"
      ]
     },
     "metadata": {},
     "output_type": "display_data"
    },
    {
     "name": "stdout",
     "output_type": "stream",
     "text": [
      "Уникальных значений: 4\n",
      "<class 'pandas.core.frame.DataFrame'>\n",
      "Int64Index: 394 entries, 0 to 394\n",
      "Data columns (total 1 columns):\n",
      " #   Column  Non-Null Count  Dtype \n",
      "---  ------  --------------  ----- \n",
      " 0   reason  377 non-null    object\n",
      "dtypes: object(1)\n",
      "memory usage: 6.2+ KB\n",
      "\n",
      "========================================\n",
      "График:\n"
     ]
    },
    {
     "data": {
      "image/png": "[encoded data removed]",
      "text/plain": [
       "<Figure size 432x288 with 1 Axes>"
      ]
     },
     "metadata": {
      "needs_background": "light"
     },
     "output_type": "display_data"
    }
   ],
   "source": [
    "show_info(students, 'reason')"
   ]
  },
  {
   "cell_type": "markdown",
   "id": "8246b069",
   "metadata": {},
   "source": [
    "1. Преобладает значение course\n",
    "2. nan значений мало, их уместно будет заменить"
   ]
  },
  {
   "cell_type": "code",
   "execution_count": 21,
   "id": "88723130",
   "metadata": {},
   "outputs": [
    {
     "name": "stdout",
     "output_type": "stream",
     "text": [
      "========================================\n",
      "Вывод значений:\n"
     ]
    },
    {
     "data": {
      "text/plain": [
       "course        154\n",
       "home          104\n",
       "reputation    103\n",
       "other          33\n",
       "Name: reason, dtype: int64"
      ]
     },
     "metadata": {},
     "output_type": "display_data"
    },
    {
     "name": "stdout",
     "output_type": "stream",
     "text": [
      "========================================\n",
      "Вывод процентного соотношения:\n"
     ]
    },
    {
     "data": {
      "text/plain": [
       "course        0.390863\n",
       "home          0.263959\n",
       "reputation    0.261421\n",
       "other         0.083756\n",
       "Name: reason, dtype: float64"
      ]
     },
     "metadata": {},
     "output_type": "display_data"
    },
    {
     "name": "stdout",
     "output_type": "stream",
     "text": [
      "========================================\n",
      "Вывод общей информации:\n"
     ]
    },
    {
     "data": {
      "text/html": [
       "<div>\n",
       "<style scoped>\n",
       "    .dataframe tbody tr th:only-of-type {\n",
       "        vertical-align: middle;\n",
       "    }\n",
       "\n",
       "    .dataframe tbody tr th {\n",
       "        vertical-align: top;\n",
       "    }\n",
       "\n",
       "    .dataframe thead th {\n",
       "        text-align: right;\n",
       "    }\n",
       "</style>\n",
       "<table border=\"1\" class=\"dataframe\">\n",
       "  <thead>\n",
       "    <tr style=\"text-align: right;\">\n",
       "      <th></th>\n",
       "      <th>reason</th>\n",
       "    </tr>\n",
       "  </thead>\n",
       "  <tbody>\n",
       "    <tr>\n",
       "      <th>course</th>\n",
       "      <td>154</td>\n",
       "    </tr>\n",
       "    <tr>\n",
       "      <th>home</th>\n",
       "      <td>104</td>\n",
       "    </tr>\n",
       "    <tr>\n",
       "      <th>reputation</th>\n",
       "      <td>103</td>\n",
       "    </tr>\n",
       "    <tr>\n",
       "      <th>other</th>\n",
       "      <td>33</td>\n",
       "    </tr>\n",
       "  </tbody>\n",
       "</table>\n",
       "</div>"
      ],
      "text/plain": [
       "            reason\n",
       "course         154\n",
       "home           104\n",
       "reputation     103\n",
       "other           33"
      ]
     },
     "metadata": {},
     "output_type": "display_data"
    },
    {
     "name": "stdout",
     "output_type": "stream",
     "text": [
      "Уникальных значений: 4\n",
      "<class 'pandas.core.frame.DataFrame'>\n",
      "Int64Index: 394 entries, 0 to 394\n",
      "Data columns (total 1 columns):\n",
      " #   Column  Non-Null Count  Dtype \n",
      "---  ------  --------------  ----- \n",
      " 0   reason  394 non-null    object\n",
      "dtypes: object(1)\n",
      "memory usage: 6.2+ KB\n",
      "\n",
      "========================================\n",
      "График:\n"
     ]
    },
    {
     "data": {
      "image/png": "[encoded data removed]",
      "text/plain": [
       "<Figure size 432x288 with 1 Axes>"
      ]
     },
     "metadata": {
      "needs_background": "light"
     },
     "output_type": "display_data"
    }
   ],
   "source": [
    "students = refill_nan(students, 'reason')\n",
    "\n",
    "show_info(students, 'reason')"
   ]
  },
  {
   "cell_type": "markdown",
   "id": "6dcf680b",
   "metadata": {},
   "source": [
    "#### GUARDIAN"
   ]
  },
  {
   "cell_type": "code",
   "execution_count": 22,
   "id": "eff69561",
   "metadata": {},
   "outputs": [
    {
     "name": "stdout",
     "output_type": "stream",
     "text": [
      "========================================\n",
      "Вывод значений:\n"
     ]
    },
    {
     "data": {
      "text/plain": [
       "mother    249\n",
       "father     86\n",
       "NaN        31\n",
       "other      28\n",
       "Name: guardian, dtype: int64"
      ]
     },
     "metadata": {},
     "output_type": "display_data"
    },
    {
     "name": "stdout",
     "output_type": "stream",
     "text": [
      "========================================\n",
      "Вывод процентного соотношения:\n"
     ]
    },
    {
     "data": {
      "text/plain": [
       "mother    0.631980\n",
       "father    0.218274\n",
       "NaN       0.078680\n",
       "other     0.071066\n",
       "Name: guardian, dtype: float64"
      ]
     },
     "metadata": {},
     "output_type": "display_data"
    },
    {
     "name": "stdout",
     "output_type": "stream",
     "text": [
      "========================================\n",
      "Вывод общей информации:\n"
     ]
    },
    {
     "data": {
      "text/html": [
       "<div>\n",
       "<style scoped>\n",
       "    .dataframe tbody tr th:only-of-type {\n",
       "        vertical-align: middle;\n",
       "    }\n",
       "\n",
       "    .dataframe tbody tr th {\n",
       "        vertical-align: top;\n",
       "    }\n",
       "\n",
       "    .dataframe thead th {\n",
       "        text-align: right;\n",
       "    }\n",
       "</style>\n",
       "<table border=\"1\" class=\"dataframe\">\n",
       "  <thead>\n",
       "    <tr style=\"text-align: right;\">\n",
       "      <th></th>\n",
       "      <th>guardian</th>\n",
       "    </tr>\n",
       "  </thead>\n",
       "  <tbody>\n",
       "    <tr>\n",
       "      <th>mother</th>\n",
       "      <td>249</td>\n",
       "    </tr>\n",
       "    <tr>\n",
       "      <th>father</th>\n",
       "      <td>86</td>\n",
       "    </tr>\n",
       "    <tr>\n",
       "      <th>other</th>\n",
       "      <td>28</td>\n",
       "    </tr>\n",
       "  </tbody>\n",
       "</table>\n",
       "</div>"
      ],
      "text/plain": [
       "        guardian\n",
       "mother       249\n",
       "father        86\n",
       "other         28"
      ]
     },
     "metadata": {},
     "output_type": "display_data"
    },
    {
     "name": "stdout",
     "output_type": "stream",
     "text": [
      "Уникальных значений: 3\n",
      "<class 'pandas.core.frame.DataFrame'>\n",
      "Int64Index: 394 entries, 0 to 394\n",
      "Data columns (total 1 columns):\n",
      " #   Column    Non-Null Count  Dtype \n",
      "---  ------    --------------  ----- \n",
      " 0   guardian  363 non-null    object\n",
      "dtypes: object(1)\n",
      "memory usage: 6.2+ KB\n",
      "\n",
      "========================================\n",
      "График:\n"
     ]
    },
    {
     "data": {
      "image/png": "[encoded data removed]",
      "text/plain": [
       "<Figure size 432x288 with 1 Axes>"
      ]
     },
     "metadata": {
      "needs_background": "light"
     },
     "output_type": "display_data"
    }
   ],
   "source": [
    "show_info(students, 'guardian')"
   ]
  },
  {
   "cell_type": "markdown",
   "id": "cd0abbc4",
   "metadata": {},
   "source": [
    "1. Пустые значения имеются, можно заменить на моду\n",
    "2. Преобладает значение mother"
   ]
  },
  {
   "cell_type": "code",
   "execution_count": 23,
   "id": "b3597e8c",
   "metadata": {},
   "outputs": [
    {
     "name": "stdout",
     "output_type": "stream",
     "text": [
      "========================================\n",
      "Вывод значений:\n"
     ]
    },
    {
     "data": {
      "text/plain": [
       "mother    280\n",
       "father     86\n",
       "other      28\n",
       "Name: guardian, dtype: int64"
      ]
     },
     "metadata": {},
     "output_type": "display_data"
    },
    {
     "name": "stdout",
     "output_type": "stream",
     "text": [
      "========================================\n",
      "Вывод процентного соотношения:\n"
     ]
    },
    {
     "data": {
      "text/plain": [
       "mother    0.710660\n",
       "father    0.218274\n",
       "other     0.071066\n",
       "Name: guardian, dtype: float64"
      ]
     },
     "metadata": {},
     "output_type": "display_data"
    },
    {
     "name": "stdout",
     "output_type": "stream",
     "text": [
      "========================================\n",
      "Вывод общей информации:\n"
     ]
    },
    {
     "data": {
      "text/html": [
       "<div>\n",
       "<style scoped>\n",
       "    .dataframe tbody tr th:only-of-type {\n",
       "        vertical-align: middle;\n",
       "    }\n",
       "\n",
       "    .dataframe tbody tr th {\n",
       "        vertical-align: top;\n",
       "    }\n",
       "\n",
       "    .dataframe thead th {\n",
       "        text-align: right;\n",
       "    }\n",
       "</style>\n",
       "<table border=\"1\" class=\"dataframe\">\n",
       "  <thead>\n",
       "    <tr style=\"text-align: right;\">\n",
       "      <th></th>\n",
       "      <th>guardian</th>\n",
       "    </tr>\n",
       "  </thead>\n",
       "  <tbody>\n",
       "    <tr>\n",
       "      <th>mother</th>\n",
       "      <td>280</td>\n",
       "    </tr>\n",
       "    <tr>\n",
       "      <th>father</th>\n",
       "      <td>86</td>\n",
       "    </tr>\n",
       "    <tr>\n",
       "      <th>other</th>\n",
       "      <td>28</td>\n",
       "    </tr>\n",
       "  </tbody>\n",
       "</table>\n",
       "</div>"
      ],
      "text/plain": [
       "        guardian\n",
       "mother       280\n",
       "father        86\n",
       "other         28"
      ]
     },
     "metadata": {},
     "output_type": "display_data"
    },
    {
     "name": "stdout",
     "output_type": "stream",
     "text": [
      "Уникальных значений: 3\n",
      "<class 'pandas.core.frame.DataFrame'>\n",
      "Int64Index: 394 entries, 0 to 394\n",
      "Data columns (total 1 columns):\n",
      " #   Column    Non-Null Count  Dtype \n",
      "---  ------    --------------  ----- \n",
      " 0   guardian  394 non-null    object\n",
      "dtypes: object(1)\n",
      "memory usage: 6.2+ KB\n",
      "\n",
      "========================================\n",
      "График:\n"
     ]
    },
    {
     "data": {
      "image/png": "[encoded data removed]",
      "text/plain": [
       "<Figure size 432x288 with 1 Axes>"
      ]
     },
     "metadata": {
      "needs_background": "light"
     },
     "output_type": "display_data"
    }
   ],
   "source": [
    "students = refill_nan(students, 'guardian')\n",
    "\n",
    "show_info(students, 'guardian')"
   ]
  },
  {
   "cell_type": "markdown",
   "id": "f1c85baf",
   "metadata": {},
   "source": [
    "#### TRAVELTIME"
   ]
  },
  {
   "cell_type": "code",
   "execution_count": 24,
   "id": "c902bf48",
   "metadata": {},
   "outputs": [
    {
     "name": "stdout",
     "output_type": "stream",
     "text": [
      "========================================\n",
      "Вывод значений:\n"
     ]
    },
    {
     "data": {
      "text/plain": [
       "1.0    241\n",
       "2.0     96\n",
       "NaN     28\n",
       "3.0     22\n",
       "4.0      7\n",
       "Name: traveltime, dtype: int64"
      ]
     },
     "metadata": {},
     "output_type": "display_data"
    },
    {
     "name": "stdout",
     "output_type": "stream",
     "text": [
      "========================================\n",
      "Вывод процентного соотношения:\n"
     ]
    },
    {
     "data": {
      "text/plain": [
       "1.0    0.611675\n",
       "2.0    0.243655\n",
       "NaN    0.071066\n",
       "3.0    0.055838\n",
       "4.0    0.017766\n",
       "Name: traveltime, dtype: float64"
      ]
     },
     "metadata": {},
     "output_type": "display_data"
    },
    {
     "name": "stdout",
     "output_type": "stream",
     "text": [
      "========================================\n",
      "Вывод общей информации:\n"
     ]
    },
    {
     "data": {
      "text/html": [
       "<div>\n",
       "<style scoped>\n",
       "    .dataframe tbody tr th:only-of-type {\n",
       "        vertical-align: middle;\n",
       "    }\n",
       "\n",
       "    .dataframe tbody tr th {\n",
       "        vertical-align: top;\n",
       "    }\n",
       "\n",
       "    .dataframe thead th {\n",
       "        text-align: right;\n",
       "    }\n",
       "</style>\n",
       "<table border=\"1\" class=\"dataframe\">\n",
       "  <thead>\n",
       "    <tr style=\"text-align: right;\">\n",
       "      <th></th>\n",
       "      <th>traveltime</th>\n",
       "    </tr>\n",
       "  </thead>\n",
       "  <tbody>\n",
       "    <tr>\n",
       "      <th>1.0</th>\n",
       "      <td>241</td>\n",
       "    </tr>\n",
       "    <tr>\n",
       "      <th>2.0</th>\n",
       "      <td>96</td>\n",
       "    </tr>\n",
       "    <tr>\n",
       "      <th>3.0</th>\n",
       "      <td>22</td>\n",
       "    </tr>\n",
       "    <tr>\n",
       "      <th>4.0</th>\n",
       "      <td>7</td>\n",
       "    </tr>\n",
       "  </tbody>\n",
       "</table>\n",
       "</div>"
      ],
      "text/plain": [
       "     traveltime\n",
       "1.0         241\n",
       "2.0          96\n",
       "3.0          22\n",
       "4.0           7"
      ]
     },
     "metadata": {},
     "output_type": "display_data"
    },
    {
     "name": "stdout",
     "output_type": "stream",
     "text": [
      "Уникальных значений: 4\n",
      "<class 'pandas.core.frame.DataFrame'>\n",
      "Int64Index: 394 entries, 0 to 394\n",
      "Data columns (total 1 columns):\n",
      " #   Column      Non-Null Count  Dtype  \n",
      "---  ------      --------------  -----  \n",
      " 0   traveltime  366 non-null    float64\n",
      "dtypes: float64(1)\n",
      "memory usage: 6.2 KB\n",
      "\n",
      "========================================\n",
      "Первичная статистика (квартили, границы):\n",
      "Среднее значение: 1.4398907103825136\n",
      " 25-й перцентиль: 1.0\n",
      " 50-й перцентиль: 1.0\n",
      " 75-й перцентиль: 2.0\n",
      " IQR: 1.0\n",
      " Границы выбросов: [-0.5, 3.5]\n",
      "\n",
      "\n",
      "========================================\n",
      "График:\n"
     ]
    },
    {
     "data": {
      "image/png": "[encoded data removed]",
      "text/plain": [
       "<Figure size 432x288 with 1 Axes>"
      ]
     },
     "metadata": {
      "needs_background": "light"
     },
     "output_type": "display_data"
    }
   ],
   "source": [
    "show_info(students, 'traveltime')"
   ]
  },
  {
   "cell_type": "markdown",
   "id": "0a66e9d8",
   "metadata": {},
   "source": [
    "Пустых значений не много. Заменим их и посмотрим, как изменились данные"
   ]
  },
  {
   "cell_type": "code",
   "execution_count": 25,
   "id": "04074714",
   "metadata": {},
   "outputs": [
    {
     "name": "stdout",
     "output_type": "stream",
     "text": [
      "========================================\n",
      "Вывод значений:\n"
     ]
    },
    {
     "data": {
      "text/plain": [
       "1.0    269\n",
       "2.0     96\n",
       "3.0     22\n",
       "4.0      7\n",
       "Name: traveltime, dtype: int64"
      ]
     },
     "metadata": {},
     "output_type": "display_data"
    },
    {
     "name": "stdout",
     "output_type": "stream",
     "text": [
      "========================================\n",
      "Вывод процентного соотношения:\n"
     ]
    },
    {
     "data": {
      "text/plain": [
       "1.0    0.682741\n",
       "2.0    0.243655\n",
       "3.0    0.055838\n",
       "4.0    0.017766\n",
       "Name: traveltime, dtype: float64"
      ]
     },
     "metadata": {},
     "output_type": "display_data"
    },
    {
     "name": "stdout",
     "output_type": "stream",
     "text": [
      "========================================\n",
      "Вывод общей информации:\n"
     ]
    },
    {
     "data": {
      "text/html": [
       "<div>\n",
       "<style scoped>\n",
       "    .dataframe tbody tr th:only-of-type {\n",
       "        vertical-align: middle;\n",
       "    }\n",
       "\n",
       "    .dataframe tbody tr th {\n",
       "        vertical-align: top;\n",
       "    }\n",
       "\n",
       "    .dataframe thead th {\n",
       "        text-align: right;\n",
       "    }\n",
       "</style>\n",
       "<table border=\"1\" class=\"dataframe\">\n",
       "  <thead>\n",
       "    <tr style=\"text-align: right;\">\n",
       "      <th></th>\n",
       "      <th>traveltime</th>\n",
       "    </tr>\n",
       "  </thead>\n",
       "  <tbody>\n",
       "    <tr>\n",
       "      <th>1.0</th>\n",
       "      <td>269</td>\n",
       "    </tr>\n",
       "    <tr>\n",
       "      <th>2.0</th>\n",
       "      <td>96</td>\n",
       "    </tr>\n",
       "    <tr>\n",
       "      <th>3.0</th>\n",
       "      <td>22</td>\n",
       "    </tr>\n",
       "    <tr>\n",
       "      <th>4.0</th>\n",
       "      <td>7</td>\n",
       "    </tr>\n",
       "  </tbody>\n",
       "</table>\n",
       "</div>"
      ],
      "text/plain": [
       "     traveltime\n",
       "1.0         269\n",
       "2.0          96\n",
       "3.0          22\n",
       "4.0           7"
      ]
     },
     "metadata": {},
     "output_type": "display_data"
    },
    {
     "name": "stdout",
     "output_type": "stream",
     "text": [
      "Уникальных значений: 4\n",
      "<class 'pandas.core.frame.DataFrame'>\n",
      "Int64Index: 394 entries, 0 to 394\n",
      "Data columns (total 1 columns):\n",
      " #   Column      Non-Null Count  Dtype  \n",
      "---  ------      --------------  -----  \n",
      " 0   traveltime  394 non-null    float64\n",
      "dtypes: float64(1)\n",
      "memory usage: 6.2 KB\n",
      "\n",
      "========================================\n",
      "Первичная статистика (квартили, границы):\n",
      "Среднее значение: 1.4086294416243654\n",
      " 25-й перцентиль: 1.0\n",
      " 50-й перцентиль: 1.0\n",
      " 75-й перцентиль: 2.0\n",
      " IQR: 1.0\n",
      " Границы выбросов: [-0.5, 3.5]\n",
      "\n",
      "\n",
      "========================================\n",
      "График:\n"
     ]
    },
    {
     "data": {
      "image/png": "[encoded data removed]",
      "text/plain": [
       "<Figure size 432x288 with 1 Axes>"
      ]
     },
     "metadata": {
      "needs_background": "light"
     },
     "output_type": "display_data"
    }
   ],
   "source": [
    "students = refill_nan(students, 'traveltime')\n",
    "\n",
    "show_info(students, 'traveltime')"
   ]
  },
  {
   "cell_type": "markdown",
   "id": "dc1bfb6b",
   "metadata": {},
   "source": [
    "1. Сильно преобладает значение 1\n",
    "2. Есть выбросы, их 7. Но данные значения могут быть по условию, и для статистики могут быть интересны. Предпочту их оставить"
   ]
  },
  {
   "cell_type": "markdown",
   "id": "b456b048",
   "metadata": {},
   "source": [
    "#### STUDYTIME"
   ]
  },
  {
   "cell_type": "code",
   "execution_count": 26,
   "id": "01a75947",
   "metadata": {},
   "outputs": [
    {
     "name": "stdout",
     "output_type": "stream",
     "text": [
      "========================================\n",
      "Вывод значений:\n"
     ]
    },
    {
     "data": {
      "text/plain": [
       "2.0    201\n",
       "1.0    102\n",
       "3.0     64\n",
       "4.0     27\n",
       "Name: studytime, dtype: int64"
      ]
     },
     "metadata": {},
     "output_type": "display_data"
    },
    {
     "name": "stdout",
     "output_type": "stream",
     "text": [
      "========================================\n",
      "Вывод процентного соотношения:\n"
     ]
    },
    {
     "data": {
      "text/plain": [
       "2.0    0.510152\n",
       "1.0    0.258883\n",
       "3.0    0.162437\n",
       "4.0    0.068528\n",
       "Name: studytime, dtype: float64"
      ]
     },
     "metadata": {},
     "output_type": "display_data"
    },
    {
     "name": "stdout",
     "output_type": "stream",
     "text": [
      "========================================\n",
      "Вывод общей информации:\n"
     ]
    },
    {
     "data": {
      "text/html": [
       "<div>\n",
       "<style scoped>\n",
       "    .dataframe tbody tr th:only-of-type {\n",
       "        vertical-align: middle;\n",
       "    }\n",
       "\n",
       "    .dataframe tbody tr th {\n",
       "        vertical-align: top;\n",
       "    }\n",
       "\n",
       "    .dataframe thead th {\n",
       "        text-align: right;\n",
       "    }\n",
       "</style>\n",
       "<table border=\"1\" class=\"dataframe\">\n",
       "  <thead>\n",
       "    <tr style=\"text-align: right;\">\n",
       "      <th></th>\n",
       "      <th>studytime</th>\n",
       "    </tr>\n",
       "  </thead>\n",
       "  <tbody>\n",
       "    <tr>\n",
       "      <th>2.0</th>\n",
       "      <td>201</td>\n",
       "    </tr>\n",
       "    <tr>\n",
       "      <th>1.0</th>\n",
       "      <td>102</td>\n",
       "    </tr>\n",
       "    <tr>\n",
       "      <th>3.0</th>\n",
       "      <td>64</td>\n",
       "    </tr>\n",
       "    <tr>\n",
       "      <th>4.0</th>\n",
       "      <td>27</td>\n",
       "    </tr>\n",
       "  </tbody>\n",
       "</table>\n",
       "</div>"
      ],
      "text/plain": [
       "     studytime\n",
       "2.0        201\n",
       "1.0        102\n",
       "3.0         64\n",
       "4.0         27"
      ]
     },
     "metadata": {},
     "output_type": "display_data"
    },
    {
     "name": "stdout",
     "output_type": "stream",
     "text": [
      "Уникальных значений: 4\n",
      "<class 'pandas.core.frame.DataFrame'>\n",
      "Int64Index: 394 entries, 0 to 394\n",
      "Data columns (total 1 columns):\n",
      " #   Column     Non-Null Count  Dtype  \n",
      "---  ------     --------------  -----  \n",
      " 0   studytime  394 non-null    float64\n",
      "dtypes: float64(1)\n",
      "memory usage: 6.2 KB\n",
      "\n",
      "========================================\n",
      "Первичная статистика (квартили, границы):\n",
      "Среднее значение: 2.0406091370558377\n",
      " 25-й перцентиль: 1.0\n",
      " 50-й перцентиль: 2.0\n",
      " 75-й перцентиль: 2.0\n",
      " IQR: 1.0\n",
      " Границы выбросов: [-0.5, 3.5]\n",
      "\n",
      "\n",
      "========================================\n",
      "График:\n"
     ]
    },
    {
     "data": {
      "image/png": "[encoded data removed]",
      "text/plain": [
       "<Figure size 432x288 with 1 Axes>"
      ]
     },
     "metadata": {
      "needs_background": "light"
     },
     "output_type": "display_data"
    }
   ],
   "source": [
    "students = refill_nan(students, 'studytime')\n",
    "\n",
    "show_info(students, 'studytime')"
   ]
  },
  {
   "cell_type": "markdown",
   "id": "e2b4fee5",
   "metadata": {},
   "source": [
    "1. Пустые значения присутствовали, их было мало, заменили\n",
    "2. Есть выбросы, их много. Могут повлиять на статистику, оставим"
   ]
  },
  {
   "cell_type": "markdown",
   "id": "0b095a04",
   "metadata": {},
   "source": [
    "#### FAILURES"
   ]
  },
  {
   "cell_type": "code",
   "execution_count": 38,
   "id": "25318252",
   "metadata": {},
   "outputs": [
    {
     "name": "stdout",
     "output_type": "stream",
     "text": [
      "========================================\n",
      "Вывод значений:\n"
     ]
    },
    {
     "data": {
      "text/plain": [
       "0.0    315\n",
       "1.0     49\n",
       "2.0     16\n",
       "3.0     14\n",
       "Name: failures, dtype: int64"
      ]
     },
     "metadata": {},
     "output_type": "display_data"
    },
    {
     "name": "stdout",
     "output_type": "stream",
     "text": [
      "========================================\n",
      "Вывод процентного соотношения:\n"
     ]
    },
    {
     "data": {
      "text/plain": [
       "0.0    0.799492\n",
       "1.0    0.124365\n",
       "2.0    0.040609\n",
       "3.0    0.035533\n",
       "Name: failures, dtype: float64"
      ]
     },
     "metadata": {},
     "output_type": "display_data"
    },
    {
     "name": "stdout",
     "output_type": "stream",
     "text": [
      "========================================\n",
      "Вывод общей информации:\n"
     ]
    },
    {
     "data": {
      "text/html": [
       "<div>\n",
       "<style scoped>\n",
       "    .dataframe tbody tr th:only-of-type {\n",
       "        vertical-align: middle;\n",
       "    }\n",
       "\n",
       "    .dataframe tbody tr th {\n",
       "        vertical-align: top;\n",
       "    }\n",
       "\n",
       "    .dataframe thead th {\n",
       "        text-align: right;\n",
       "    }\n",
       "</style>\n",
       "<table border=\"1\" class=\"dataframe\">\n",
       "  <thead>\n",
       "    <tr style=\"text-align: right;\">\n",
       "      <th></th>\n",
       "      <th>failures</th>\n",
       "    </tr>\n",
       "  </thead>\n",
       "  <tbody>\n",
       "    <tr>\n",
       "      <th>0.0</th>\n",
       "      <td>315</td>\n",
       "    </tr>\n",
       "    <tr>\n",
       "      <th>1.0</th>\n",
       "      <td>49</td>\n",
       "    </tr>\n",
       "    <tr>\n",
       "      <th>2.0</th>\n",
       "      <td>16</td>\n",
       "    </tr>\n",
       "    <tr>\n",
       "      <th>3.0</th>\n",
       "      <td>14</td>\n",
       "    </tr>\n",
       "  </tbody>\n",
       "</table>\n",
       "</div>"
      ],
      "text/plain": [
       "     failures\n",
       "0.0       315\n",
       "1.0        49\n",
       "2.0        16\n",
       "3.0        14"
      ]
     },
     "metadata": {},
     "output_type": "display_data"
    },
    {
     "name": "stdout",
     "output_type": "stream",
     "text": [
      "Уникальных значений: 4\n",
      "<class 'pandas.core.frame.DataFrame'>\n",
      "Int64Index: 394 entries, 0 to 394\n",
      "Data columns (total 1 columns):\n",
      " #   Column    Non-Null Count  Dtype  \n",
      "---  ------    --------------  -----  \n",
      " 0   failures  394 non-null    float64\n",
      "dtypes: float64(1)\n",
      "memory usage: 6.2 KB\n",
      "\n",
      "========================================\n",
      "Первичная статистика (квартили, границы):\n",
      "Среднее значение: 0.31218274111675126\n",
      " 25-й перцентиль: 0.0\n",
      " 50-й перцентиль: 0.0\n",
      " 75-й перцентиль: 0.0\n",
      " IQR: 0.0\n",
      " Границы выбросов: [0.0, 0.0]\n",
      "\n",
      "\n",
      "========================================\n",
      "График:\n"
     ]
    },
    {
     "data": {
      "image/png": "[encoded data removed]",
      "text/plain": [
       "<Figure size 432x288 with 1 Axes>"
      ]
     },
     "metadata": {
      "needs_background": "light"
     },
     "output_type": "display_data"
    }
   ],
   "source": [
    "students.failures.fillna(0, inplace = True)\n",
    "# students = refill_nan(students, 'failures')\n",
    "# students.failures.apply(lambda x: 0 if pd.isnull(x) else 0 if x == 'NaN' else 0 if x == 'nan' else x)\n",
    "show_info(students, 'failures')"
   ]
  },
  {
   "cell_type": "markdown",
   "id": "5e3c089f",
   "metadata": {},
   "source": [
    "1. пустых значений мало, заменили\n",
    "2. преобладает 0"
   ]
  },
  {
   "cell_type": "code",
   "execution_count": 28,
   "id": "34ac4df6",
   "metadata": {},
   "outputs": [
    {
     "data": {
      "text/plain": [
       "0.0"
      ]
     },
     "execution_count": 28,
     "metadata": {},
     "output_type": "execute_result"
    }
   ],
   "source": [
    "students.failures.median()"
   ]
  },
  {
   "cell_type": "markdown",
   "id": "8f27df10",
   "metadata": {},
   "source": [
    "#### SCHOOLSUP"
   ]
  },
  {
   "cell_type": "code",
   "execution_count": 40,
   "id": "88bfb015",
   "metadata": {},
   "outputs": [
    {
     "name": "stdout",
     "output_type": "stream",
     "text": [
      "========================================\n",
      "Вывод значений:\n"
     ]
    },
    {
     "data": {
      "text/plain": [
       "no     343\n",
       "yes     51\n",
       "Name: schoolsup, dtype: int64"
      ]
     },
     "metadata": {},
     "output_type": "display_data"
    },
    {
     "name": "stdout",
     "output_type": "stream",
     "text": [
      "========================================\n",
      "Вывод процентного соотношения:\n"
     ]
    },
    {
     "data": {
      "text/plain": [
       "no     0.870558\n",
       "yes    0.129442\n",
       "Name: schoolsup, dtype: float64"
      ]
     },
     "metadata": {},
     "output_type": "display_data"
    },
    {
     "name": "stdout",
     "output_type": "stream",
     "text": [
      "========================================\n",
      "Вывод общей информации:\n"
     ]
    },
    {
     "data": {
      "text/html": [
       "<div>\n",
       "<style scoped>\n",
       "    .dataframe tbody tr th:only-of-type {\n",
       "        vertical-align: middle;\n",
       "    }\n",
       "\n",
       "    .dataframe tbody tr th {\n",
       "        vertical-align: top;\n",
       "    }\n",
       "\n",
       "    .dataframe thead th {\n",
       "        text-align: right;\n",
       "    }\n",
       "</style>\n",
       "<table border=\"1\" class=\"dataframe\">\n",
       "  <thead>\n",
       "    <tr style=\"text-align: right;\">\n",
       "      <th></th>\n",
       "      <th>schoolsup</th>\n",
       "    </tr>\n",
       "  </thead>\n",
       "  <tbody>\n",
       "    <tr>\n",
       "      <th>no</th>\n",
       "      <td>343</td>\n",
       "    </tr>\n",
       "    <tr>\n",
       "      <th>yes</th>\n",
       "      <td>51</td>\n",
       "    </tr>\n",
       "  </tbody>\n",
       "</table>\n",
       "</div>"
      ],
      "text/plain": [
       "     schoolsup\n",
       "no         343\n",
       "yes         51"
      ]
     },
     "metadata": {},
     "output_type": "display_data"
    },
    {
     "name": "stdout",
     "output_type": "stream",
     "text": [
      "Уникальных значений: 2\n",
      "<class 'pandas.core.frame.DataFrame'>\n",
      "Int64Index: 394 entries, 0 to 394\n",
      "Data columns (total 1 columns):\n",
      " #   Column     Non-Null Count  Dtype \n",
      "---  ------     --------------  ----- \n",
      " 0   schoolsup  394 non-null    object\n",
      "dtypes: object(1)\n",
      "memory usage: 6.2+ KB\n",
      "\n",
      "========================================\n",
      "График:\n"
     ]
    },
    {
     "data": {
      "image/png": "[encoded data removed]",
      "text/plain": [
       "<Figure size 432x288 with 1 Axes>"
      ]
     },
     "metadata": {
      "needs_background": "light"
     },
     "output_type": "display_data"
    }
   ],
   "source": [
    "students = refill_nan(students, 'schoolsup')\n",
    "\n",
    "show_info(students, 'schoolsup')"
   ]
  },
  {
   "cell_type": "markdown",
   "id": "d5f17be8",
   "metadata": {},
   "source": [
    "1. преобладает NO\n",
    "2. пустые значения есть, заменили"
   ]
  },
  {
   "cell_type": "markdown",
   "id": "9d0118d4",
   "metadata": {},
   "source": [
    "#### FAMSUP"
   ]
  },
  {
   "cell_type": "code",
   "execution_count": 29,
   "id": "229af666",
   "metadata": {},
   "outputs": [
    {
     "name": "stdout",
     "output_type": "stream",
     "text": [
      "========================================\n",
      "Вывод значений:\n"
     ]
    },
    {
     "data": {
      "text/plain": [
       "yes    258\n",
       "no     136\n",
       "Name: famsup, dtype: int64"
      ]
     },
     "metadata": {},
     "output_type": "display_data"
    },
    {
     "name": "stdout",
     "output_type": "stream",
     "text": [
      "========================================\n",
      "Вывод процентного соотношения:\n"
     ]
    },
    {
     "data": {
      "text/plain": [
       "yes    0.654822\n",
       "no     0.345178\n",
       "Name: famsup, dtype: float64"
      ]
     },
     "metadata": {},
     "output_type": "display_data"
    },
    {
     "name": "stdout",
     "output_type": "stream",
     "text": [
      "========================================\n",
      "Вывод общей информации:\n"
     ]
    },
    {
     "data": {
      "text/html": [
       "<div>\n",
       "<style scoped>\n",
       "    .dataframe tbody tr th:only-of-type {\n",
       "        vertical-align: middle;\n",
       "    }\n",
       "\n",
       "    .dataframe tbody tr th {\n",
       "        vertical-align: top;\n",
       "    }\n",
       "\n",
       "    .dataframe thead th {\n",
       "        text-align: right;\n",
       "    }\n",
       "</style>\n",
       "<table border=\"1\" class=\"dataframe\">\n",
       "  <thead>\n",
       "    <tr style=\"text-align: right;\">\n",
       "      <th></th>\n",
       "      <th>famsup</th>\n",
       "    </tr>\n",
       "  </thead>\n",
       "  <tbody>\n",
       "    <tr>\n",
       "      <th>yes</th>\n",
       "      <td>258</td>\n",
       "    </tr>\n",
       "    <tr>\n",
       "      <th>no</th>\n",
       "      <td>136</td>\n",
       "    </tr>\n",
       "  </tbody>\n",
       "</table>\n",
       "</div>"
      ],
      "text/plain": [
       "     famsup\n",
       "yes     258\n",
       "no      136"
      ]
     },
     "metadata": {},
     "output_type": "display_data"
    },
    {
     "name": "stdout",
     "output_type": "stream",
     "text": [
      "Уникальных значений: 2\n",
      "<class 'pandas.core.frame.DataFrame'>\n",
      "Int64Index: 394 entries, 0 to 394\n",
      "Data columns (total 1 columns):\n",
      " #   Column  Non-Null Count  Dtype \n",
      "---  ------  --------------  ----- \n",
      " 0   famsup  394 non-null    object\n",
      "dtypes: object(1)\n",
      "memory usage: 6.2+ KB\n",
      "\n",
      "========================================\n",
      "График:\n"
     ]
    },
    {
     "data": {
      "image/png": "[encoded data removed]",
      "text/plain": [
       "<Figure size 432x288 with 1 Axes>"
      ]
     },
     "metadata": {
      "needs_background": "light"
     },
     "output_type": "display_data"
    }
   ],
   "source": [
    "students = refill_nan(students, 'famsup')\n",
    "\n",
    "show_info(students, 'famsup')"
   ]
  },
  {
   "cell_type": "markdown",
   "id": "6b3a2062",
   "metadata": {},
   "source": [
    "1. пустые значения были, заменили\n",
    "2. преобладает значение yes"
   ]
  },
  {
   "cell_type": "markdown",
   "id": "ea7d3db5",
   "metadata": {},
   "source": [
    "#### PAID"
   ]
  },
  {
   "cell_type": "code",
   "execution_count": 30,
   "id": "6696fa1a",
   "metadata": {},
   "outputs": [
    {
     "name": "stdout",
     "output_type": "stream",
     "text": [
      "========================================\n",
      "Вывод значений:\n"
     ]
    },
    {
     "data": {
      "text/plain": [
       "no     199\n",
       "yes    155\n",
       "NaN     40\n",
       "Name: paid, dtype: int64"
      ]
     },
     "metadata": {},
     "output_type": "display_data"
    },
    {
     "name": "stdout",
     "output_type": "stream",
     "text": [
      "========================================\n",
      "Вывод процентного соотношения:\n"
     ]
    },
    {
     "data": {
      "text/plain": [
       "no     0.505076\n",
       "yes    0.393401\n",
       "NaN    0.101523\n",
       "Name: paid, dtype: float64"
      ]
     },
     "metadata": {},
     "output_type": "display_data"
    },
    {
     "name": "stdout",
     "output_type": "stream",
     "text": [
      "========================================\n",
      "Вывод общей информации:\n"
     ]
    },
    {
     "data": {
      "text/html": [
       "<div>\n",
       "<style scoped>\n",
       "    .dataframe tbody tr th:only-of-type {\n",
       "        vertical-align: middle;\n",
       "    }\n",
       "\n",
       "    .dataframe tbody tr th {\n",
       "        vertical-align: top;\n",
       "    }\n",
       "\n",
       "    .dataframe thead th {\n",
       "        text-align: right;\n",
       "    }\n",
       "</style>\n",
       "<table border=\"1\" class=\"dataframe\">\n",
       "  <thead>\n",
       "    <tr style=\"text-align: right;\">\n",
       "      <th></th>\n",
       "      <th>paid</th>\n",
       "    </tr>\n",
       "  </thead>\n",
       "  <tbody>\n",
       "    <tr>\n",
       "      <th>no</th>\n",
       "      <td>199</td>\n",
       "    </tr>\n",
       "    <tr>\n",
       "      <th>yes</th>\n",
       "      <td>155</td>\n",
       "    </tr>\n",
       "  </tbody>\n",
       "</table>\n",
       "</div>"
      ],
      "text/plain": [
       "     paid\n",
       "no    199\n",
       "yes   155"
      ]
     },
     "metadata": {},
     "output_type": "display_data"
    },
    {
     "name": "stdout",
     "output_type": "stream",
     "text": [
      "Уникальных значений: 2\n",
      "<class 'pandas.core.frame.DataFrame'>\n",
      "Int64Index: 394 entries, 0 to 394\n",
      "Data columns (total 1 columns):\n",
      " #   Column  Non-Null Count  Dtype \n",
      "---  ------  --------------  ----- \n",
      " 0   paid    354 non-null    object\n",
      "dtypes: object(1)\n",
      "memory usage: 6.2+ KB\n",
      "\n",
      "========================================\n",
      "График:\n"
     ]
    },
    {
     "data": {
      "image/png": "[encoded data removed]",
      "text/plain": [
       "<Figure size 432x288 with 1 Axes>"
      ]
     },
     "metadata": {
      "needs_background": "light"
     },
     "output_type": "display_data"
    }
   ],
   "source": [
    "# students = refill_nan(students, 'studytime')\n",
    "\n",
    "show_info(students, 'paid')"
   ]
  },
  {
   "cell_type": "markdown",
   "id": "5c40bfc4",
   "metadata": {},
   "source": [
    "1. Преобладает no, но не сильно\n",
    "2. пустых значений много. Пока оставим как есть"
   ]
  },
  {
   "cell_type": "markdown",
   "id": "a211e574",
   "metadata": {},
   "source": [
    "#### ACTIVITIES"
   ]
  },
  {
   "cell_type": "code",
   "execution_count": 31,
   "id": "9dae0c3d",
   "metadata": {},
   "outputs": [
    {
     "name": "stdout",
     "output_type": "stream",
     "text": [
      "========================================\n",
      "Вывод значений:\n"
     ]
    },
    {
     "data": {
      "text/plain": [
       "yes    209\n",
       "no     185\n",
       "Name: activities, dtype: int64"
      ]
     },
     "metadata": {},
     "output_type": "display_data"
    },
    {
     "name": "stdout",
     "output_type": "stream",
     "text": [
      "========================================\n",
      "Вывод процентного соотношения:\n"
     ]
    },
    {
     "data": {
      "text/plain": [
       "yes    0.530457\n",
       "no     0.469543\n",
       "Name: activities, dtype: float64"
      ]
     },
     "metadata": {},
     "output_type": "display_data"
    },
    {
     "name": "stdout",
     "output_type": "stream",
     "text": [
      "========================================\n",
      "Вывод общей информации:\n"
     ]
    },
    {
     "data": {
      "text/html": [
       "<div>\n",
       "<style scoped>\n",
       "    .dataframe tbody tr th:only-of-type {\n",
       "        vertical-align: middle;\n",
       "    }\n",
       "\n",
       "    .dataframe tbody tr th {\n",
       "        vertical-align: top;\n",
       "    }\n",
       "\n",
       "    .dataframe thead th {\n",
       "        text-align: right;\n",
       "    }\n",
       "</style>\n",
       "<table border=\"1\" class=\"dataframe\">\n",
       "  <thead>\n",
       "    <tr style=\"text-align: right;\">\n",
       "      <th></th>\n",
       "      <th>activities</th>\n",
       "    </tr>\n",
       "  </thead>\n",
       "  <tbody>\n",
       "    <tr>\n",
       "      <th>yes</th>\n",
       "      <td>209</td>\n",
       "    </tr>\n",
       "    <tr>\n",
       "      <th>no</th>\n",
       "      <td>185</td>\n",
       "    </tr>\n",
       "  </tbody>\n",
       "</table>\n",
       "</div>"
      ],
      "text/plain": [
       "     activities\n",
       "yes         209\n",
       "no          185"
      ]
     },
     "metadata": {},
     "output_type": "display_data"
    },
    {
     "name": "stdout",
     "output_type": "stream",
     "text": [
      "Уникальных значений: 2\n",
      "<class 'pandas.core.frame.DataFrame'>\n",
      "Int64Index: 394 entries, 0 to 394\n",
      "Data columns (total 1 columns):\n",
      " #   Column      Non-Null Count  Dtype \n",
      "---  ------      --------------  ----- \n",
      " 0   activities  394 non-null    object\n",
      "dtypes: object(1)\n",
      "memory usage: 6.2+ KB\n",
      "\n",
      "========================================\n",
      "График:\n"
     ]
    },
    {
     "data": {
      "image/png": "[encoded data removed]",
      "text/plain": [
       "<Figure size 432x288 with 1 Axes>"
      ]
     },
     "metadata": {
      "needs_background": "light"
     },
     "output_type": "display_data"
    }
   ],
   "source": [
    "students = refill_nan(students, 'activities')\n",
    "\n",
    "show_info(students, 'activities')"
   ]
  },
  {
   "cell_type": "markdown",
   "id": "8362428e",
   "metadata": {},
   "source": [
    "1. преобладает yes, разница не велика\n",
    "2. пустых значений было мало, заменили"
   ]
  },
  {
   "cell_type": "markdown",
   "id": "3e8f55a9",
   "metadata": {},
   "source": [
    "#### NURSERY"
   ]
  },
  {
   "cell_type": "code",
   "execution_count": 32,
   "id": "fb5892b7",
   "metadata": {},
   "outputs": [
    {
     "name": "stdout",
     "output_type": "stream",
     "text": [
      "========================================\n",
      "Вывод значений:\n"
     ]
    },
    {
     "data": {
      "text/plain": [
       "yes    316\n",
       "no      78\n",
       "Name: nursery, dtype: int64"
      ]
     },
     "metadata": {},
     "output_type": "display_data"
    },
    {
     "name": "stdout",
     "output_type": "stream",
     "text": [
      "========================================\n",
      "Вывод процентного соотношения:\n"
     ]
    },
    {
     "data": {
      "text/plain": [
       "yes    0.80203\n",
       "no     0.19797\n",
       "Name: nursery, dtype: float64"
      ]
     },
     "metadata": {},
     "output_type": "display_data"
    },
    {
     "name": "stdout",
     "output_type": "stream",
     "text": [
      "========================================\n",
      "Вывод общей информации:\n"
     ]
    },
    {
     "data": {
      "text/html": [
       "<div>\n",
       "<style scoped>\n",
       "    .dataframe tbody tr th:only-of-type {\n",
       "        vertical-align: middle;\n",
       "    }\n",
       "\n",
       "    .dataframe tbody tr th {\n",
       "        vertical-align: top;\n",
       "    }\n",
       "\n",
       "    .dataframe thead th {\n",
       "        text-align: right;\n",
       "    }\n",
       "</style>\n",
       "<table border=\"1\" class=\"dataframe\">\n",
       "  <thead>\n",
       "    <tr style=\"text-align: right;\">\n",
       "      <th></th>\n",
       "      <th>nursery</th>\n",
       "    </tr>\n",
       "  </thead>\n",
       "  <tbody>\n",
       "    <tr>\n",
       "      <th>yes</th>\n",
       "      <td>316</td>\n",
       "    </tr>\n",
       "    <tr>\n",
       "      <th>no</th>\n",
       "      <td>78</td>\n",
       "    </tr>\n",
       "  </tbody>\n",
       "</table>\n",
       "</div>"
      ],
      "text/plain": [
       "     nursery\n",
       "yes      316\n",
       "no        78"
      ]
     },
     "metadata": {},
     "output_type": "display_data"
    },
    {
     "name": "stdout",
     "output_type": "stream",
     "text": [
      "Уникальных значений: 2\n",
      "<class 'pandas.core.frame.DataFrame'>\n",
      "Int64Index: 394 entries, 0 to 394\n",
      "Data columns (total 1 columns):\n",
      " #   Column   Non-Null Count  Dtype \n",
      "---  ------   --------------  ----- \n",
      " 0   nursery  394 non-null    object\n",
      "dtypes: object(1)\n",
      "memory usage: 6.2+ KB\n",
      "\n",
      "========================================\n",
      "График:\n"
     ]
    },
    {
     "data": {
      "image/png": "[encoded data removed]",
      "text/plain": [
       "<Figure size 432x288 with 1 Axes>"
      ]
     },
     "metadata": {
      "needs_background": "light"
     },
     "output_type": "display_data"
    }
   ],
   "source": [
    "students = refill_nan(students, 'nursery')\n",
    "\n",
    "show_info(students, 'nursery')"
   ]
  },
  {
   "cell_type": "markdown",
   "id": "404a4a1e",
   "metadata": {},
   "source": [
    "1. преобладает yes\n",
    "2. пустых значений мало было, заменили"
   ]
  },
  {
   "cell_type": "markdown",
   "id": "13585a00",
   "metadata": {},
   "source": [
    "#### HIGHER"
   ]
  },
  {
   "cell_type": "code",
   "execution_count": 33,
   "id": "540638d1",
   "metadata": {},
   "outputs": [
    {
     "name": "stdout",
     "output_type": "stream",
     "text": [
      "========================================\n",
      "Вывод значений:\n"
     ]
    },
    {
     "data": {
      "text/plain": [
       "yes    376\n",
       "no      18\n",
       "Name: higher, dtype: int64"
      ]
     },
     "metadata": {},
     "output_type": "display_data"
    },
    {
     "name": "stdout",
     "output_type": "stream",
     "text": [
      "========================================\n",
      "Вывод процентного соотношения:\n"
     ]
    },
    {
     "data": {
      "text/plain": [
       "yes    0.954315\n",
       "no     0.045685\n",
       "Name: higher, dtype: float64"
      ]
     },
     "metadata": {},
     "output_type": "display_data"
    },
    {
     "name": "stdout",
     "output_type": "stream",
     "text": [
      "========================================\n",
      "Вывод общей информации:\n"
     ]
    },
    {
     "data": {
      "text/html": [
       "<div>\n",
       "<style scoped>\n",
       "    .dataframe tbody tr th:only-of-type {\n",
       "        vertical-align: middle;\n",
       "    }\n",
       "\n",
       "    .dataframe tbody tr th {\n",
       "        vertical-align: top;\n",
       "    }\n",
       "\n",
       "    .dataframe thead th {\n",
       "        text-align: right;\n",
       "    }\n",
       "</style>\n",
       "<table border=\"1\" class=\"dataframe\">\n",
       "  <thead>\n",
       "    <tr style=\"text-align: right;\">\n",
       "      <th></th>\n",
       "      <th>higher</th>\n",
       "    </tr>\n",
       "  </thead>\n",
       "  <tbody>\n",
       "    <tr>\n",
       "      <th>yes</th>\n",
       "      <td>376</td>\n",
       "    </tr>\n",
       "    <tr>\n",
       "      <th>no</th>\n",
       "      <td>18</td>\n",
       "    </tr>\n",
       "  </tbody>\n",
       "</table>\n",
       "</div>"
      ],
      "text/plain": [
       "     higher\n",
       "yes     376\n",
       "no       18"
      ]
     },
     "metadata": {},
     "output_type": "display_data"
    },
    {
     "name": "stdout",
     "output_type": "stream",
     "text": [
      "Уникальных значений: 2\n",
      "<class 'pandas.core.frame.DataFrame'>\n",
      "Int64Index: 394 entries, 0 to 394\n",
      "Data columns (total 1 columns):\n",
      " #   Column  Non-Null Count  Dtype \n",
      "---  ------  --------------  ----- \n",
      " 0   higher  394 non-null    object\n",
      "dtypes: object(1)\n",
      "memory usage: 6.2+ KB\n",
      "\n",
      "========================================\n",
      "График:\n"
     ]
    },
    {
     "data": {
      "image/png": "[encoded data removed]",
      "text/plain": [
       "<Figure size 432x288 with 1 Axes>"
      ]
     },
     "metadata": {
      "needs_background": "light"
     },
     "output_type": "display_data"
    }
   ],
   "source": [
    "students = refill_nan(students, 'higher')\n",
    "\n",
    "show_info(students, 'higher')"
   ]
  },
  {
   "cell_type": "markdown",
   "id": "d58aa817",
   "metadata": {},
   "source": [
    "1. преобладает YES\n",
    "2. nan мало, заменили"
   ]
  },
  {
   "cell_type": "markdown",
   "id": "80c5dc45",
   "metadata": {},
   "source": [
    "#### INTERNET"
   ]
  },
  {
   "cell_type": "code",
   "execution_count": 37,
   "id": "56b7f606",
   "metadata": {},
   "outputs": [
    {
     "name": "stdout",
     "output_type": "stream",
     "text": [
      "********************\n",
      "*** ПОСЛЕ ЗАМЕНЫ ***\n",
      "********************\n",
      "========================================\n",
      "Вывод значений:\n"
     ]
    },
    {
     "data": {
      "text/plain": [
       "yes    338\n",
       "no      56\n",
       "Name: internet, dtype: int64"
      ]
     },
     "metadata": {},
     "output_type": "display_data"
    },
    {
     "name": "stdout",
     "output_type": "stream",
     "text": [
      "========================================\n",
      "Вывод процентного соотношения:\n"
     ]
    },
    {
     "data": {
      "text/plain": [
       "yes    0.857868\n",
       "no     0.142132\n",
       "Name: internet, dtype: float64"
      ]
     },
     "metadata": {},
     "output_type": "display_data"
    },
    {
     "name": "stdout",
     "output_type": "stream",
     "text": [
      "========================================\n",
      "Вывод общей информации:\n"
     ]
    },
    {
     "data": {
      "text/html": [
       "<div>\n",
       "<style scoped>\n",
       "    .dataframe tbody tr th:only-of-type {\n",
       "        vertical-align: middle;\n",
       "    }\n",
       "\n",
       "    .dataframe tbody tr th {\n",
       "        vertical-align: top;\n",
       "    }\n",
       "\n",
       "    .dataframe thead th {\n",
       "        text-align: right;\n",
       "    }\n",
       "</style>\n",
       "<table border=\"1\" class=\"dataframe\">\n",
       "  <thead>\n",
       "    <tr style=\"text-align: right;\">\n",
       "      <th></th>\n",
       "      <th>internet</th>\n",
       "    </tr>\n",
       "  </thead>\n",
       "  <tbody>\n",
       "    <tr>\n",
       "      <th>yes</th>\n",
       "      <td>338</td>\n",
       "    </tr>\n",
       "    <tr>\n",
       "      <th>no</th>\n",
       "      <td>56</td>\n",
       "    </tr>\n",
       "  </tbody>\n",
       "</table>\n",
       "</div>"
      ],
      "text/plain": [
       "     internet\n",
       "yes       338\n",
       "no         56"
      ]
     },
     "metadata": {},
     "output_type": "display_data"
    },
    {
     "name": "stdout",
     "output_type": "stream",
     "text": [
      "Уникальных значений: 2\n",
      "<class 'pandas.core.frame.DataFrame'>\n",
      "Int64Index: 394 entries, 0 to 394\n",
      "Data columns (total 1 columns):\n",
      " #   Column    Non-Null Count  Dtype \n",
      "---  ------    --------------  ----- \n",
      " 0   internet  394 non-null    object\n",
      "dtypes: object(1)\n",
      "memory usage: 6.2+ KB\n",
      "\n",
      "========================================\n",
      "График:\n"
     ]
    },
    {
     "data": {
      "image/png": "[encoded data removed]",
      "text/plain": [
       "<Figure size 432x288 with 1 Axes>"
      ]
     },
     "metadata": {
      "needs_background": "light"
     },
     "output_type": "display_data"
    }
   ],
   "source": [
    "students = refill_nan(students, 'internet')\n",
    "\n",
    "# 1. Ghtj,kflftn sdfsdf\n",
    "print(f'********************\\n*** ПОСЛЕ ЗАМЕНЫ ***\\n********************')\n",
    "show_info(students, 'internet')"
   ]
  },
  {
   "cell_type": "markdown",
   "id": "a5bdc6c5",
   "metadata": {},
   "source": [
    "1. преобладает YES\n",
    "2. nan мало, заменили"
   ]
  },
  {
   "cell_type": "markdown",
   "id": "68bd1292",
   "metadata": {},
   "source": [
    "#### ROMANTIC"
   ]
  },
  {
   "cell_type": "code",
   "execution_count": 43,
   "id": "120c774b",
   "metadata": {},
   "outputs": [
    {
     "name": "stdout",
     "output_type": "stream",
     "text": [
      "========================================\n",
      "Вывод значений:\n"
     ]
    },
    {
     "data": {
      "text/plain": [
       "no     271\n",
       "yes    123\n",
       "Name: romantic, dtype: int64"
      ]
     },
     "metadata": {},
     "output_type": "display_data"
    },
    {
     "name": "stdout",
     "output_type": "stream",
     "text": [
      "========================================\n",
      "Вывод процентного соотношения:\n"
     ]
    },
    {
     "data": {
      "text/plain": [
       "no     0.687817\n",
       "yes    0.312183\n",
       "Name: romantic, dtype: float64"
      ]
     },
     "metadata": {},
     "output_type": "display_data"
    },
    {
     "name": "stdout",
     "output_type": "stream",
     "text": [
      "========================================\n",
      "Вывод общей информации:\n"
     ]
    },
    {
     "data": {
      "text/html": [
       "<div>\n",
       "<style scoped>\n",
       "    .dataframe tbody tr th:only-of-type {\n",
       "        vertical-align: middle;\n",
       "    }\n",
       "\n",
       "    .dataframe tbody tr th {\n",
       "        vertical-align: top;\n",
       "    }\n",
       "\n",
       "    .dataframe thead th {\n",
       "        text-align: right;\n",
       "    }\n",
       "</style>\n",
       "<table border=\"1\" class=\"dataframe\">\n",
       "  <thead>\n",
       "    <tr style=\"text-align: right;\">\n",
       "      <th></th>\n",
       "      <th>romantic</th>\n",
       "    </tr>\n",
       "  </thead>\n",
       "  <tbody>\n",
       "    <tr>\n",
       "      <th>no</th>\n",
       "      <td>271</td>\n",
       "    </tr>\n",
       "    <tr>\n",
       "      <th>yes</th>\n",
       "      <td>123</td>\n",
       "    </tr>\n",
       "  </tbody>\n",
       "</table>\n",
       "</div>"
      ],
      "text/plain": [
       "     romantic\n",
       "no        271\n",
       "yes       123"
      ]
     },
     "metadata": {},
     "output_type": "display_data"
    },
    {
     "name": "stdout",
     "output_type": "stream",
     "text": [
      "Уникальных значений: 2\n",
      "<class 'pandas.core.frame.DataFrame'>\n",
      "Int64Index: 394 entries, 0 to 394\n",
      "Data columns (total 1 columns):\n",
      " #   Column    Non-Null Count  Dtype \n",
      "---  ------    --------------  ----- \n",
      " 0   romantic  394 non-null    object\n",
      "dtypes: object(1)\n",
      "memory usage: 6.2+ KB\n",
      "\n",
      "========================================\n",
      "График:\n"
     ]
    },
    {
     "data": {
      "image/png": "[encoded data removed]",
      "text/plain": [
       "<Figure size 432x288 with 1 Axes>"
      ]
     },
     "metadata": {
      "needs_background": "light"
     },
     "output_type": "display_data"
    }
   ],
   "source": [
    "students = refill_nan(students, 'romantic')\n",
    "\n",
    "show_info(students, 'romantic')"
   ]
  },
  {
   "cell_type": "markdown",
   "id": "bb3f71d3",
   "metadata": {},
   "source": [
    "1. преобдалает ДА\n",
    "2. пустых немного, заменили"
   ]
  },
  {
   "cell_type": "markdown",
   "id": "bc7579b9",
   "metadata": {},
   "source": [
    "#### FAMREL"
   ]
  },
  {
   "cell_type": "code",
   "execution_count": 44,
   "id": "8913e462",
   "metadata": {},
   "outputs": [
    {
     "name": "stdout",
     "output_type": "stream",
     "text": [
      "========================================\n",
      "Вывод значений:\n"
     ]
    },
    {
     "data": {
      "text/plain": [
       " 4.0    182\n",
       " 5.0     98\n",
       " 3.0     62\n",
       " NaN     27\n",
       " 2.0     17\n",
       " 1.0      7\n",
       "-1.0      1\n",
       "Name: famrel, dtype: int64"
      ]
     },
     "metadata": {},
     "output_type": "display_data"
    },
    {
     "name": "stdout",
     "output_type": "stream",
     "text": [
      "========================================\n",
      "Вывод процентного соотношения:\n"
     ]
    },
    {
     "data": {
      "text/plain": [
       " 4.0    0.461929\n",
       " 5.0    0.248731\n",
       " 3.0    0.157360\n",
       " NaN    0.068528\n",
       " 2.0    0.043147\n",
       " 1.0    0.017766\n",
       "-1.0    0.002538\n",
       "Name: famrel, dtype: float64"
      ]
     },
     "metadata": {},
     "output_type": "display_data"
    },
    {
     "name": "stdout",
     "output_type": "stream",
     "text": [
      "========================================\n",
      "Вывод общей информации:\n"
     ]
    },
    {
     "data": {
      "text/html": [
       "<div>\n",
       "<style scoped>\n",
       "    .dataframe tbody tr th:only-of-type {\n",
       "        vertical-align: middle;\n",
       "    }\n",
       "\n",
       "    .dataframe tbody tr th {\n",
       "        vertical-align: top;\n",
       "    }\n",
       "\n",
       "    .dataframe thead th {\n",
       "        text-align: right;\n",
       "    }\n",
       "</style>\n",
       "<table border=\"1\" class=\"dataframe\">\n",
       "  <thead>\n",
       "    <tr style=\"text-align: right;\">\n",
       "      <th></th>\n",
       "      <th>famrel</th>\n",
       "    </tr>\n",
       "  </thead>\n",
       "  <tbody>\n",
       "    <tr>\n",
       "      <th>4.0</th>\n",
       "      <td>182</td>\n",
       "    </tr>\n",
       "    <tr>\n",
       "      <th>5.0</th>\n",
       "      <td>98</td>\n",
       "    </tr>\n",
       "    <tr>\n",
       "      <th>3.0</th>\n",
       "      <td>62</td>\n",
       "    </tr>\n",
       "    <tr>\n",
       "      <th>2.0</th>\n",
       "      <td>17</td>\n",
       "    </tr>\n",
       "    <tr>\n",
       "      <th>1.0</th>\n",
       "      <td>7</td>\n",
       "    </tr>\n",
       "    <tr>\n",
       "      <th>-1.0</th>\n",
       "      <td>1</td>\n",
       "    </tr>\n",
       "  </tbody>\n",
       "</table>\n",
       "</div>"
      ],
      "text/plain": [
       "      famrel\n",
       " 4.0     182\n",
       " 5.0      98\n",
       " 3.0      62\n",
       " 2.0      17\n",
       " 1.0       7\n",
       "-1.0       1"
      ]
     },
     "metadata": {},
     "output_type": "display_data"
    },
    {
     "name": "stdout",
     "output_type": "stream",
     "text": [
      "Уникальных значений: 6\n",
      "<class 'pandas.core.frame.DataFrame'>\n",
      "Int64Index: 394 entries, 0 to 394\n",
      "Data columns (total 1 columns):\n",
      " #   Column  Non-Null Count  Dtype  \n",
      "---  ------  --------------  -----  \n",
      " 0   famrel  367 non-null    float64\n",
      "dtypes: float64(1)\n",
      "memory usage: 6.2 KB\n",
      "\n",
      "========================================\n",
      "Первичная статистика (квартили, границы):\n",
      "Среднее значение: 3.9346049046321525\n",
      " 25-й перцентиль: 4.0\n",
      " 50-й перцентиль: 4.0\n",
      " 75-й перцентиль: 5.0\n",
      " IQR: 1.0\n",
      " Границы выбросов: [2.5, 6.5]\n",
      "\n",
      "\n",
      "========================================\n",
      "График:\n"
     ]
    },
    {
     "data": {
      "image/png": "[encoded data removed]",
      "text/plain": [
       "<Figure size 432x288 with 1 Axes>"
      ]
     },
     "metadata": {
      "needs_background": "light"
     },
     "output_type": "display_data"
    }
   ],
   "source": [
    "# students = refill_nan(students, 'famsup')\n",
    "\n",
    "show_info(students, 'famrel')"
   ]
  },
  {
   "cell_type": "markdown",
   "id": "2ee38b9b",
   "metadata": {},
   "source": [
    "1. Есть пустые значения, заменим\n",
    "2. преобладает 4\n",
    "3. Есть выбросы, но подходят под условие. Посмотрим, что нам покажет анализ. Оставим\n",
    "4. здравый смысл подсказывает, что значение -1 - явная ошибка. Похоже что должно быть 1, заменим"
   ]
  },
  {
   "cell_type": "code",
   "execution_count": 50,
   "id": "9c8b9099",
   "metadata": {},
   "outputs": [
    {
     "name": "stdout",
     "output_type": "stream",
     "text": [
      "========================================\n",
      "Вывод значений:\n"
     ]
    },
    {
     "data": {
      "text/plain": [
       "4.0    209\n",
       "5.0     98\n",
       "3.0     62\n",
       "2.0     17\n",
       "1.0      8\n",
       "Name: famrel, dtype: int64"
      ]
     },
     "metadata": {},
     "output_type": "display_data"
    },
    {
     "name": "stdout",
     "output_type": "stream",
     "text": [
      "========================================\n",
      "Вывод процентного соотношения:\n"
     ]
    },
    {
     "data": {
      "text/plain": [
       "4.0    0.530457\n",
       "5.0    0.248731\n",
       "3.0    0.157360\n",
       "2.0    0.043147\n",
       "1.0    0.020305\n",
       "Name: famrel, dtype: float64"
      ]
     },
     "metadata": {},
     "output_type": "display_data"
    },
    {
     "name": "stdout",
     "output_type": "stream",
     "text": [
      "========================================\n",
      "Вывод общей информации:\n"
     ]
    },
    {
     "data": {
      "text/html": [
       "<div>\n",
       "<style scoped>\n",
       "    .dataframe tbody tr th:only-of-type {\n",
       "        vertical-align: middle;\n",
       "    }\n",
       "\n",
       "    .dataframe tbody tr th {\n",
       "        vertical-align: top;\n",
       "    }\n",
       "\n",
       "    .dataframe thead th {\n",
       "        text-align: right;\n",
       "    }\n",
       "</style>\n",
       "<table border=\"1\" class=\"dataframe\">\n",
       "  <thead>\n",
       "    <tr style=\"text-align: right;\">\n",
       "      <th></th>\n",
       "      <th>famrel</th>\n",
       "    </tr>\n",
       "  </thead>\n",
       "  <tbody>\n",
       "    <tr>\n",
       "      <th>4.0</th>\n",
       "      <td>209</td>\n",
       "    </tr>\n",
       "    <tr>\n",
       "      <th>5.0</th>\n",
       "      <td>98</td>\n",
       "    </tr>\n",
       "    <tr>\n",
       "      <th>3.0</th>\n",
       "      <td>62</td>\n",
       "    </tr>\n",
       "    <tr>\n",
       "      <th>2.0</th>\n",
       "      <td>17</td>\n",
       "    </tr>\n",
       "    <tr>\n",
       "      <th>1.0</th>\n",
       "      <td>8</td>\n",
       "    </tr>\n",
       "  </tbody>\n",
       "</table>\n",
       "</div>"
      ],
      "text/plain": [
       "     famrel\n",
       "4.0     209\n",
       "5.0      98\n",
       "3.0      62\n",
       "2.0      17\n",
       "1.0       8"
      ]
     },
     "metadata": {},
     "output_type": "display_data"
    },
    {
     "name": "stdout",
     "output_type": "stream",
     "text": [
      "Уникальных значений: 5\n",
      "<class 'pandas.core.frame.DataFrame'>\n",
      "Int64Index: 394 entries, 0 to 394\n",
      "Data columns (total 1 columns):\n",
      " #   Column  Non-Null Count  Dtype  \n",
      "---  ------  --------------  -----  \n",
      " 0   famrel  394 non-null    float64\n",
      "dtypes: float64(1)\n",
      "memory usage: 6.2 KB\n",
      "\n",
      "========================================\n",
      "Первичная статистика (квартили, границы):\n",
      "Среднее значение: 3.9441624365482233\n",
      " 25-й перцентиль: 4.0\n",
      " 50-й перцентиль: 4.0\n",
      " 75-й перцентиль: 4.0\n",
      " IQR: 0.0\n",
      " Границы выбросов: [4.0, 4.0]\n",
      "\n",
      "\n",
      "========================================\n",
      "График:\n"
     ]
    },
    {
     "data": {
      "image/png": "[encoded data removed]",
      "text/plain": [
       "<Figure size 432x288 with 1 Axes>"
      ]
     },
     "metadata": {
      "needs_background": "light"
     },
     "output_type": "display_data"
    }
   ],
   "source": [
    "students.famrel = students.famrel.apply(lambda x: 1 if x == -1 else x)\n",
    "\n",
    "students = refill_nan(students, 'famrel')\n",
    "\n",
    "show_info(students, 'famrel')"
   ]
  },
  {
   "cell_type": "code",
   "execution_count": 53,
   "id": "676cd3c6",
   "metadata": {},
   "outputs": [
    {
     "data": {
      "text/plain": [
       "count    394.000000\n",
       "mean       3.944162\n",
       "std        0.871913\n",
       "min        1.000000\n",
       "25%        4.000000\n",
       "50%        4.000000\n",
       "75%        4.000000\n",
       "max        5.000000\n",
       "Name: famrel, dtype: float64"
      ]
     },
     "execution_count": 53,
     "metadata": {},
     "output_type": "execute_result"
    }
   ],
   "source": [
    "students.famrel.describe()"
   ]
  },
  {
   "cell_type": "markdown",
   "id": "296ab098",
   "metadata": {},
   "source": [
    "Интересно получается, что теперь по границам выбросов у нас возможно одно единственное число - 4, остальное выбросы. Яно менять/удалять данные не надо. Проанализируем потом"
   ]
  },
  {
   "cell_type": "markdown",
   "id": "2addf4fe",
   "metadata": {},
   "source": [
    "#### FREETIME"
   ]
  },
  {
   "cell_type": "code",
   "execution_count": 56,
   "id": "6dad6fb0",
   "metadata": {},
   "outputs": [
    {
     "name": "stdout",
     "output_type": "stream",
     "text": [
      "========================================\n",
      "Вывод значений:\n"
     ]
    },
    {
     "data": {
      "text/plain": [
       "3.0    164\n",
       "4.0    111\n",
       "2.0     63\n",
       "5.0     38\n",
       "1.0     18\n",
       "Name: freetime, dtype: int64"
      ]
     },
     "metadata": {},
     "output_type": "display_data"
    },
    {
     "name": "stdout",
     "output_type": "stream",
     "text": [
      "========================================\n",
      "Вывод процентного соотношения:\n"
     ]
    },
    {
     "data": {
      "text/plain": [
       "3.0    0.416244\n",
       "4.0    0.281726\n",
       "2.0    0.159898\n",
       "5.0    0.096447\n",
       "1.0    0.045685\n",
       "Name: freetime, dtype: float64"
      ]
     },
     "metadata": {},
     "output_type": "display_data"
    },
    {
     "name": "stdout",
     "output_type": "stream",
     "text": [
      "========================================\n",
      "Вывод общей информации:\n"
     ]
    },
    {
     "data": {
      "text/html": [
       "<div>\n",
       "<style scoped>\n",
       "    .dataframe tbody tr th:only-of-type {\n",
       "        vertical-align: middle;\n",
       "    }\n",
       "\n",
       "    .dataframe tbody tr th {\n",
       "        vertical-align: top;\n",
       "    }\n",
       "\n",
       "    .dataframe thead th {\n",
       "        text-align: right;\n",
       "    }\n",
       "</style>\n",
       "<table border=\"1\" class=\"dataframe\">\n",
       "  <thead>\n",
       "    <tr style=\"text-align: right;\">\n",
       "      <th></th>\n",
       "      <th>freetime</th>\n",
       "    </tr>\n",
       "  </thead>\n",
       "  <tbody>\n",
       "    <tr>\n",
       "      <th>3.0</th>\n",
       "      <td>164</td>\n",
       "    </tr>\n",
       "    <tr>\n",
       "      <th>4.0</th>\n",
       "      <td>111</td>\n",
       "    </tr>\n",
       "    <tr>\n",
       "      <th>2.0</th>\n",
       "      <td>63</td>\n",
       "    </tr>\n",
       "    <tr>\n",
       "      <th>5.0</th>\n",
       "      <td>38</td>\n",
       "    </tr>\n",
       "    <tr>\n",
       "      <th>1.0</th>\n",
       "      <td>18</td>\n",
       "    </tr>\n",
       "  </tbody>\n",
       "</table>\n",
       "</div>"
      ],
      "text/plain": [
       "     freetime\n",
       "3.0       164\n",
       "4.0       111\n",
       "2.0        63\n",
       "5.0        38\n",
       "1.0        18"
      ]
     },
     "metadata": {},
     "output_type": "display_data"
    },
    {
     "name": "stdout",
     "output_type": "stream",
     "text": [
      "Уникальных значений: 5\n",
      "<class 'pandas.core.frame.DataFrame'>\n",
      "Int64Index: 394 entries, 0 to 394\n",
      "Data columns (total 1 columns):\n",
      " #   Column    Non-Null Count  Dtype  \n",
      "---  ------    --------------  -----  \n",
      " 0   freetime  394 non-null    float64\n",
      "dtypes: float64(1)\n",
      "memory usage: 6.2 KB\n",
      "\n",
      "========================================\n",
      "Первичная статистика (квартили, границы):\n",
      "Среднее значение: 3.2233502538071064\n",
      " 25-й перцентиль: 3.0\n",
      " 50-й перцентиль: 3.0\n",
      " 75-й перцентиль: 4.0\n",
      " IQR: 1.0\n",
      " Границы выбросов: [1.5, 5.5]\n",
      "\n",
      "\n",
      "========================================\n",
      "График:\n"
     ]
    },
    {
     "data": {
      "image/png": "[encoded data removed]",
      "text/plain": [
       "<Figure size 432x288 with 1 Axes>"
      ]
     },
     "metadata": {
      "needs_background": "light"
     },
     "output_type": "display_data"
    }
   ],
   "source": [
    "students = refill_nan(students, 'freetime')\n",
    "\n",
    "show_info(students, 'freetime')"
   ]
  },
  {
   "cell_type": "markdown",
   "id": "6abfda0f",
   "metadata": {},
   "source": [
    "1. Преобладает 3\n",
    "2. Есть пропуски, заменили\n",
    "3. Есть выбросы. Но они могут показатсья статистически интересными, оставим"
   ]
  },
  {
   "cell_type": "markdown",
   "id": "1149093d",
   "metadata": {},
   "source": [
    "#### GOOUT"
   ]
  },
  {
   "cell_type": "code",
   "execution_count": 58,
   "id": "e794d4d5",
   "metadata": {},
   "outputs": [
    {
     "name": "stdout",
     "output_type": "stream",
     "text": [
      "========================================\n",
      "Вывод значений:\n"
     ]
    },
    {
     "data": {
      "text/plain": [
       "3.0    135\n",
       "2.0    101\n",
       "4.0     84\n",
       "5.0     51\n",
       "1.0     23\n",
       "Name: goout, dtype: int64"
      ]
     },
     "metadata": {},
     "output_type": "display_data"
    },
    {
     "name": "stdout",
     "output_type": "stream",
     "text": [
      "========================================\n",
      "Вывод процентного соотношения:\n"
     ]
    },
    {
     "data": {
      "text/plain": [
       "3.0    0.342640\n",
       "2.0    0.256345\n",
       "4.0    0.213198\n",
       "5.0    0.129442\n",
       "1.0    0.058376\n",
       "Name: goout, dtype: float64"
      ]
     },
     "metadata": {},
     "output_type": "display_data"
    },
    {
     "name": "stdout",
     "output_type": "stream",
     "text": [
      "========================================\n",
      "Вывод общей информации:\n"
     ]
    },
    {
     "data": {
      "text/html": [
       "<div>\n",
       "<style scoped>\n",
       "    .dataframe tbody tr th:only-of-type {\n",
       "        vertical-align: middle;\n",
       "    }\n",
       "\n",
       "    .dataframe tbody tr th {\n",
       "        vertical-align: top;\n",
       "    }\n",
       "\n",
       "    .dataframe thead th {\n",
       "        text-align: right;\n",
       "    }\n",
       "</style>\n",
       "<table border=\"1\" class=\"dataframe\">\n",
       "  <thead>\n",
       "    <tr style=\"text-align: right;\">\n",
       "      <th></th>\n",
       "      <th>goout</th>\n",
       "    </tr>\n",
       "  </thead>\n",
       "  <tbody>\n",
       "    <tr>\n",
       "      <th>3.0</th>\n",
       "      <td>135</td>\n",
       "    </tr>\n",
       "    <tr>\n",
       "      <th>2.0</th>\n",
       "      <td>101</td>\n",
       "    </tr>\n",
       "    <tr>\n",
       "      <th>4.0</th>\n",
       "      <td>84</td>\n",
       "    </tr>\n",
       "    <tr>\n",
       "      <th>5.0</th>\n",
       "      <td>51</td>\n",
       "    </tr>\n",
       "    <tr>\n",
       "      <th>1.0</th>\n",
       "      <td>23</td>\n",
       "    </tr>\n",
       "  </tbody>\n",
       "</table>\n",
       "</div>"
      ],
      "text/plain": [
       "     goout\n",
       "3.0    135\n",
       "2.0    101\n",
       "4.0     84\n",
       "5.0     51\n",
       "1.0     23"
      ]
     },
     "metadata": {},
     "output_type": "display_data"
    },
    {
     "name": "stdout",
     "output_type": "stream",
     "text": [
      "Уникальных значений: 5\n",
      "<class 'pandas.core.frame.DataFrame'>\n",
      "Int64Index: 394 entries, 0 to 394\n",
      "Data columns (total 1 columns):\n",
      " #   Column  Non-Null Count  Dtype  \n",
      "---  ------  --------------  -----  \n",
      " 0   goout   394 non-null    float64\n",
      "dtypes: float64(1)\n",
      "memory usage: 6.2 KB\n",
      "\n",
      "========================================\n",
      "Первичная статистика (квартили, границы):\n",
      "Среднее значение: 3.098984771573604\n",
      " 25-й перцентиль: 2.0\n",
      " 50-й перцентиль: 3.0\n",
      " 75-й перцентиль: 4.0\n",
      " IQR: 2.0\n",
      " Границы выбросов: [-1.0, 7.0]\n",
      "\n",
      "\n",
      "========================================\n",
      "График:\n"
     ]
    },
    {
     "data": {
      "image/png": "[encoded data removed]",
      "text/plain": [
       "<Figure size 432x288 with 1 Axes>"
      ]
     },
     "metadata": {
      "needs_background": "light"
     },
     "output_type": "display_data"
    }
   ],
   "source": [
    "students = refill_nan(students, 'goout')\n",
    "\n",
    "show_info(students, 'goout')"
   ]
  },
  {
   "cell_type": "markdown",
   "id": "8f6f03f1",
   "metadata": {},
   "source": [
    "1. преобладает 3\n",
    "2. выбросов нет\n",
    "3. есть пустые значения, заменили"
   ]
  },
  {
   "cell_type": "markdown",
   "id": "6f98e52f",
   "metadata": {},
   "source": [
    "#### HEALTH"
   ]
  },
  {
   "cell_type": "code",
   "execution_count": 60,
   "id": "d35d64a6",
   "metadata": {},
   "outputs": [
    {
     "name": "stdout",
     "output_type": "stream",
     "text": [
      "========================================\n",
      "Вывод значений:\n"
     ]
    },
    {
     "data": {
      "text/plain": [
       "5.0    138\n",
       "3.0     89\n",
       "4.0     78\n",
       "1.0     46\n",
       "2.0     43\n",
       "Name: health, dtype: int64"
      ]
     },
     "metadata": {},
     "output_type": "display_data"
    },
    {
     "name": "stdout",
     "output_type": "stream",
     "text": [
      "========================================\n",
      "Вывод процентного соотношения:\n"
     ]
    },
    {
     "data": {
      "text/plain": [
       "5.0    0.350254\n",
       "3.0    0.225888\n",
       "4.0    0.197970\n",
       "1.0    0.116751\n",
       "2.0    0.109137\n",
       "Name: health, dtype: float64"
      ]
     },
     "metadata": {},
     "output_type": "display_data"
    },
    {
     "name": "stdout",
     "output_type": "stream",
     "text": [
      "========================================\n",
      "Вывод общей информации:\n"
     ]
    },
    {
     "data": {
      "text/html": [
       "<div>\n",
       "<style scoped>\n",
       "    .dataframe tbody tr th:only-of-type {\n",
       "        vertical-align: middle;\n",
       "    }\n",
       "\n",
       "    .dataframe tbody tr th {\n",
       "        vertical-align: top;\n",
       "    }\n",
       "\n",
       "    .dataframe thead th {\n",
       "        text-align: right;\n",
       "    }\n",
       "</style>\n",
       "<table border=\"1\" class=\"dataframe\">\n",
       "  <thead>\n",
       "    <tr style=\"text-align: right;\">\n",
       "      <th></th>\n",
       "      <th>health</th>\n",
       "    </tr>\n",
       "  </thead>\n",
       "  <tbody>\n",
       "    <tr>\n",
       "      <th>5.0</th>\n",
       "      <td>138</td>\n",
       "    </tr>\n",
       "    <tr>\n",
       "      <th>3.0</th>\n",
       "      <td>89</td>\n",
       "    </tr>\n",
       "    <tr>\n",
       "      <th>4.0</th>\n",
       "      <td>78</td>\n",
       "    </tr>\n",
       "    <tr>\n",
       "      <th>1.0</th>\n",
       "      <td>46</td>\n",
       "    </tr>\n",
       "    <tr>\n",
       "      <th>2.0</th>\n",
       "      <td>43</td>\n",
       "    </tr>\n",
       "  </tbody>\n",
       "</table>\n",
       "</div>"
      ],
      "text/plain": [
       "     health\n",
       "5.0     138\n",
       "3.0      89\n",
       "4.0      78\n",
       "1.0      46\n",
       "2.0      43"
      ]
     },
     "metadata": {},
     "output_type": "display_data"
    },
    {
     "name": "stdout",
     "output_type": "stream",
     "text": [
      "Уникальных значений: 5\n",
      "<class 'pandas.core.frame.DataFrame'>\n",
      "Int64Index: 394 entries, 0 to 394\n",
      "Data columns (total 1 columns):\n",
      " #   Column  Non-Null Count  Dtype  \n",
      "---  ------  --------------  -----  \n",
      " 0   health  394 non-null    float64\n",
      "dtypes: float64(1)\n",
      "memory usage: 6.2 KB\n",
      "\n",
      "========================================\n",
      "Первичная статистика (квартили, границы):\n",
      "Среднее значение: 3.5558375634517767\n",
      " 25-й перцентиль: 3.0\n",
      " 50-й перцентиль: 4.0\n",
      " 75-й перцентиль: 5.0\n",
      " IQR: 2.0\n",
      " Границы выбросов: [0.0, 8.0]\n",
      "\n",
      "\n",
      "========================================\n",
      "График:\n"
     ]
    },
    {
     "data": {
      "image/png": "[encoded data removed]",
      "text/plain": [
       "<Figure size 432x288 with 1 Axes>"
      ]
     },
     "metadata": {
      "needs_background": "light"
     },
     "output_type": "display_data"
    }
   ],
   "source": [
    "students = refill_nan(students, 'health')\n",
    "\n",
    "show_info(students, 'health')"
   ]
  },
  {
   "cell_type": "markdown",
   "id": "cdd692ab",
   "metadata": {},
   "source": [
    "1. преобладает 5\n",
    "2. выбросов нет\n",
    "3. пропуски есть, заменили"
   ]
  },
  {
   "cell_type": "markdown",
   "id": "112d2962",
   "metadata": {},
   "source": [
    "#### ABSENSES"
   ]
  },
  {
   "cell_type": "code",
   "execution_count": 64,
   "id": "cf45f011",
   "metadata": {},
   "outputs": [
    {
     "name": "stdout",
     "output_type": "stream",
     "text": [
      "========================================\n",
      "Вывод значений:\n"
     ]
    },
    {
     "data": {
      "text/plain": [
       "0.0      111\n",
       "4.0       65\n",
       "2.0       60\n",
       "6.0       31\n",
       "8.0       21\n",
       "10.0      17\n",
       "14.0      12\n",
       "12.0      12\n",
       "3.0        8\n",
       "7.0        6\n",
       "16.0       6\n",
       "18.0       5\n",
       "5.0        5\n",
       "20.0       4\n",
       "9.0        3\n",
       "22.0       3\n",
       "1.0        3\n",
       "13.0       2\n",
       "15.0       2\n",
       "11.0       2\n",
       "40.0       1\n",
       "38.0       1\n",
       "56.0       1\n",
       "23.0       1\n",
       "24.0       1\n",
       "25.0       1\n",
       "385.0      1\n",
       "17.0       1\n",
       "75.0       1\n",
       "21.0       1\n",
       "212.0      1\n",
       "28.0       1\n",
       "19.0       1\n",
       "26.0       1\n",
       "30.0       1\n",
       "54.0       1\n",
       "Name: absences, dtype: int64"
      ]
     },
     "metadata": {},
     "output_type": "display_data"
    },
    {
     "name": "stdout",
     "output_type": "stream",
     "text": [
      "========================================\n",
      "Вывод процентного соотношения:\n"
     ]
    },
    {
     "data": {
      "text/plain": [
       "0.0      0.281726\n",
       "4.0      0.164975\n",
       "2.0      0.152284\n",
       "6.0      0.078680\n",
       "8.0      0.053299\n",
       "10.0     0.043147\n",
       "14.0     0.030457\n",
       "12.0     0.030457\n",
       "3.0      0.020305\n",
       "7.0      0.015228\n",
       "16.0     0.015228\n",
       "18.0     0.012690\n",
       "5.0      0.012690\n",
       "20.0     0.010152\n",
       "9.0      0.007614\n",
       "22.0     0.007614\n",
       "1.0      0.007614\n",
       "13.0     0.005076\n",
       "15.0     0.005076\n",
       "11.0     0.005076\n",
       "40.0     0.002538\n",
       "38.0     0.002538\n",
       "56.0     0.002538\n",
       "23.0     0.002538\n",
       "24.0     0.002538\n",
       "25.0     0.002538\n",
       "385.0    0.002538\n",
       "17.0     0.002538\n",
       "75.0     0.002538\n",
       "21.0     0.002538\n",
       "212.0    0.002538\n",
       "28.0     0.002538\n",
       "19.0     0.002538\n",
       "26.0     0.002538\n",
       "30.0     0.002538\n",
       "54.0     0.002538\n",
       "Name: absences, dtype: float64"
      ]
     },
     "metadata": {},
     "output_type": "display_data"
    },
    {
     "name": "stdout",
     "output_type": "stream",
     "text": [
      "========================================\n",
      "Вывод общей информации:\n"
     ]
    },
    {
     "data": {
      "text/html": [
       "<div>\n",
       "<style scoped>\n",
       "    .dataframe tbody tr th:only-of-type {\n",
       "        vertical-align: middle;\n",
       "    }\n",
       "\n",
       "    .dataframe tbody tr th {\n",
       "        vertical-align: top;\n",
       "    }\n",
       "\n",
       "    .dataframe thead th {\n",
       "        text-align: right;\n",
       "    }\n",
       "</style>\n",
       "<table border=\"1\" class=\"dataframe\">\n",
       "  <thead>\n",
       "    <tr style=\"text-align: right;\">\n",
       "      <th></th>\n",
       "      <th>absences</th>\n",
       "    </tr>\n",
       "  </thead>\n",
       "  <tbody>\n",
       "    <tr>\n",
       "      <th>0.0</th>\n",
       "      <td>111</td>\n",
       "    </tr>\n",
       "    <tr>\n",
       "      <th>4.0</th>\n",
       "      <td>65</td>\n",
       "    </tr>\n",
       "    <tr>\n",
       "      <th>2.0</th>\n",
       "      <td>60</td>\n",
       "    </tr>\n",
       "    <tr>\n",
       "      <th>6.0</th>\n",
       "      <td>31</td>\n",
       "    </tr>\n",
       "    <tr>\n",
       "      <th>8.0</th>\n",
       "      <td>21</td>\n",
       "    </tr>\n",
       "    <tr>\n",
       "      <th>10.0</th>\n",
       "      <td>17</td>\n",
       "    </tr>\n",
       "    <tr>\n",
       "      <th>14.0</th>\n",
       "      <td>12</td>\n",
       "    </tr>\n",
       "    <tr>\n",
       "      <th>12.0</th>\n",
       "      <td>12</td>\n",
       "    </tr>\n",
       "    <tr>\n",
       "      <th>3.0</th>\n",
       "      <td>8</td>\n",
       "    </tr>\n",
       "    <tr>\n",
       "      <th>7.0</th>\n",
       "      <td>6</td>\n",
       "    </tr>\n",
       "    <tr>\n",
       "      <th>16.0</th>\n",
       "      <td>6</td>\n",
       "    </tr>\n",
       "    <tr>\n",
       "      <th>18.0</th>\n",
       "      <td>5</td>\n",
       "    </tr>\n",
       "    <tr>\n",
       "      <th>5.0</th>\n",
       "      <td>5</td>\n",
       "    </tr>\n",
       "    <tr>\n",
       "      <th>20.0</th>\n",
       "      <td>4</td>\n",
       "    </tr>\n",
       "    <tr>\n",
       "      <th>9.0</th>\n",
       "      <td>3</td>\n",
       "    </tr>\n",
       "    <tr>\n",
       "      <th>22.0</th>\n",
       "      <td>3</td>\n",
       "    </tr>\n",
       "    <tr>\n",
       "      <th>1.0</th>\n",
       "      <td>3</td>\n",
       "    </tr>\n",
       "    <tr>\n",
       "      <th>13.0</th>\n",
       "      <td>2</td>\n",
       "    </tr>\n",
       "    <tr>\n",
       "      <th>15.0</th>\n",
       "      <td>2</td>\n",
       "    </tr>\n",
       "    <tr>\n",
       "      <th>11.0</th>\n",
       "      <td>2</td>\n",
       "    </tr>\n",
       "    <tr>\n",
       "      <th>40.0</th>\n",
       "      <td>1</td>\n",
       "    </tr>\n",
       "    <tr>\n",
       "      <th>38.0</th>\n",
       "      <td>1</td>\n",
       "    </tr>\n",
       "    <tr>\n",
       "      <th>56.0</th>\n",
       "      <td>1</td>\n",
       "    </tr>\n",
       "    <tr>\n",
       "      <th>23.0</th>\n",
       "      <td>1</td>\n",
       "    </tr>\n",
       "    <tr>\n",
       "      <th>24.0</th>\n",
       "      <td>1</td>\n",
       "    </tr>\n",
       "    <tr>\n",
       "      <th>25.0</th>\n",
       "      <td>1</td>\n",
       "    </tr>\n",
       "    <tr>\n",
       "      <th>385.0</th>\n",
       "      <td>1</td>\n",
       "    </tr>\n",
       "    <tr>\n",
       "      <th>17.0</th>\n",
       "      <td>1</td>\n",
       "    </tr>\n",
       "    <tr>\n",
       "      <th>75.0</th>\n",
       "      <td>1</td>\n",
       "    </tr>\n",
       "    <tr>\n",
       "      <th>21.0</th>\n",
       "      <td>1</td>\n",
       "    </tr>\n",
       "    <tr>\n",
       "      <th>212.0</th>\n",
       "      <td>1</td>\n",
       "    </tr>\n",
       "    <tr>\n",
       "      <th>28.0</th>\n",
       "      <td>1</td>\n",
       "    </tr>\n",
       "    <tr>\n",
       "      <th>19.0</th>\n",
       "      <td>1</td>\n",
       "    </tr>\n",
       "    <tr>\n",
       "      <th>26.0</th>\n",
       "      <td>1</td>\n",
       "    </tr>\n",
       "    <tr>\n",
       "      <th>30.0</th>\n",
       "      <td>1</td>\n",
       "    </tr>\n",
       "    <tr>\n",
       "      <th>54.0</th>\n",
       "      <td>1</td>\n",
       "    </tr>\n",
       "  </tbody>\n",
       "</table>\n",
       "</div>"
      ],
      "text/plain": [
       "       absences\n",
       "0.0         111\n",
       "4.0          65\n",
       "2.0          60\n",
       "6.0          31\n",
       "8.0          21\n",
       "10.0         17\n",
       "14.0         12\n",
       "12.0         12\n",
       "3.0           8\n",
       "7.0           6\n",
       "16.0          6\n",
       "18.0          5\n",
       "5.0           5\n",
       "20.0          4\n",
       "9.0           3\n",
       "22.0          3\n",
       "1.0           3\n",
       "13.0          2\n",
       "15.0          2\n",
       "11.0          2\n",
       "40.0          1\n",
       "38.0          1\n",
       "56.0          1\n",
       "23.0          1\n",
       "24.0          1\n",
       "25.0          1\n",
       "385.0         1\n",
       "17.0          1\n",
       "75.0          1\n",
       "21.0          1\n",
       "212.0         1\n",
       "28.0          1\n",
       "19.0          1\n",
       "26.0          1\n",
       "30.0          1\n",
       "54.0          1"
      ]
     },
     "metadata": {},
     "output_type": "display_data"
    },
    {
     "name": "stdout",
     "output_type": "stream",
     "text": [
      "Уникальных значений: 36\n",
      "<class 'pandas.core.frame.DataFrame'>\n",
      "Int64Index: 394 entries, 0 to 394\n",
      "Data columns (total 1 columns):\n",
      " #   Column    Non-Null Count  Dtype  \n",
      "---  ------    --------------  -----  \n",
      " 0   absences  394 non-null    float64\n",
      "dtypes: float64(1)\n",
      "memory usage: 6.2 KB\n",
      "\n",
      "========================================\n",
      "Первичная статистика (квартили, границы):\n",
      "Среднее значение: 7.157360406091371\n",
      " 25-й перцентиль: 0.0\n",
      " 50-й перцентиль: 4.0\n",
      " 75-й перцентиль: 8.0\n",
      " IQR: 8.0\n",
      " Границы выбросов: [-12.0, 20.0]\n",
      "\n",
      "\n",
      "========================================\n",
      "График:\n"
     ]
    },
    {
     "data": {
      "image/png": "[encoded data removed]",
      "text/plain": [
       "<Figure size 432x288 with 1 Axes>"
      ]
     },
     "metadata": {
      "needs_background": "light"
     },
     "output_type": "display_data"
    }
   ],
   "source": [
    "students = refill_nan(students, 'absences')\n",
    "\n",
    "show_info(students, 'absences')"
   ]
  },
  {
   "cell_type": "markdown",
   "id": "71afe65a",
   "metadata": {},
   "source": [
    "Есть 2 строки, содержащие явные ошибки - значения 385 и 212. сперва уберем эти строки\n",
    "Узнаем, сколько строк - выбросы"
   ]
  },
  {
   "cell_type": "code",
   "execution_count": 71,
   "id": "8074fb5f",
   "metadata": {},
   "outputs": [
    {
     "data": {
      "text/plain": [
       "Series([], Name: absences, dtype: int64)"
      ]
     },
     "execution_count": 71,
     "metadata": {},
     "output_type": "execute_result"
    }
   ],
   "source": [
    "students = students[students.absences < 100]\n",
    "\n",
    "students[students.absences<-12].absences.value_counts()\n",
    "# show_info(students, 'absences')"
   ]
  },
  {
   "cell_type": "markdown",
   "id": "a563d539",
   "metadata": {},
   "source": [
    "#### SCORE\n",
    "А вот и наша главная колонка. Именно она нам для статистики и интересна."
   ]
  },
  {
   "cell_type": "code",
   "execution_count": 73,
   "id": "ae7f3521",
   "metadata": {},
   "outputs": [
    {
     "name": "stdout",
     "output_type": "stream",
     "text": [
      "========================================\n",
      "Вывод значений:\n"
     ]
    },
    {
     "data": {
      "text/plain": [
       "50.0     54\n",
       "55.0     46\n",
       "0.0      37\n",
       "75.0     33\n",
       "65.0     31\n",
       "60.0     31\n",
       "40.0     30\n",
       "70.0     27\n",
       "45.0     26\n",
       "80.0     16\n",
       "30.0     15\n",
       "90.0     12\n",
       "35.0      9\n",
       "25.0      7\n",
       "NaN       6\n",
       "85.0      5\n",
       "95.0      5\n",
       "100.0     1\n",
       "20.0      1\n",
       "Name: score, dtype: int64"
      ]
     },
     "metadata": {},
     "output_type": "display_data"
    },
    {
     "name": "stdout",
     "output_type": "stream",
     "text": [
      "========================================\n",
      "Вывод процентного соотношения:\n"
     ]
    },
    {
     "data": {
      "text/plain": [
       "50.0     0.137755\n",
       "55.0     0.117347\n",
       "0.0      0.094388\n",
       "75.0     0.084184\n",
       "65.0     0.079082\n",
       "60.0     0.079082\n",
       "40.0     0.076531\n",
       "70.0     0.068878\n",
       "45.0     0.066327\n",
       "80.0     0.040816\n",
       "30.0     0.038265\n",
       "90.0     0.030612\n",
       "35.0     0.022959\n",
       "25.0     0.017857\n",
       "NaN      0.015306\n",
       "85.0     0.012755\n",
       "95.0     0.012755\n",
       "100.0    0.002551\n",
       "20.0     0.002551\n",
       "Name: score, dtype: float64"
      ]
     },
     "metadata": {},
     "output_type": "display_data"
    },
    {
     "name": "stdout",
     "output_type": "stream",
     "text": [
      "========================================\n",
      "Вывод общей информации:\n"
     ]
    },
    {
     "data": {
      "text/html": [
       "<div>\n",
       "<style scoped>\n",
       "    .dataframe tbody tr th:only-of-type {\n",
       "        vertical-align: middle;\n",
       "    }\n",
       "\n",
       "    .dataframe tbody tr th {\n",
       "        vertical-align: top;\n",
       "    }\n",
       "\n",
       "    .dataframe thead th {\n",
       "        text-align: right;\n",
       "    }\n",
       "</style>\n",
       "<table border=\"1\" class=\"dataframe\">\n",
       "  <thead>\n",
       "    <tr style=\"text-align: right;\">\n",
       "      <th></th>\n",
       "      <th>score</th>\n",
       "    </tr>\n",
       "  </thead>\n",
       "  <tbody>\n",
       "    <tr>\n",
       "      <th>50.0</th>\n",
       "      <td>54</td>\n",
       "    </tr>\n",
       "    <tr>\n",
       "      <th>55.0</th>\n",
       "      <td>46</td>\n",
       "    </tr>\n",
       "    <tr>\n",
       "      <th>0.0</th>\n",
       "      <td>37</td>\n",
       "    </tr>\n",
       "    <tr>\n",
       "      <th>75.0</th>\n",
       "      <td>33</td>\n",
       "    </tr>\n",
       "    <tr>\n",
       "      <th>65.0</th>\n",
       "      <td>31</td>\n",
       "    </tr>\n",
       "    <tr>\n",
       "      <th>60.0</th>\n",
       "      <td>31</td>\n",
       "    </tr>\n",
       "    <tr>\n",
       "      <th>40.0</th>\n",
       "      <td>30</td>\n",
       "    </tr>\n",
       "    <tr>\n",
       "      <th>70.0</th>\n",
       "      <td>27</td>\n",
       "    </tr>\n",
       "    <tr>\n",
       "      <th>45.0</th>\n",
       "      <td>26</td>\n",
       "    </tr>\n",
       "    <tr>\n",
       "      <th>80.0</th>\n",
       "      <td>16</td>\n",
       "    </tr>\n",
       "    <tr>\n",
       "      <th>30.0</th>\n",
       "      <td>15</td>\n",
       "    </tr>\n",
       "    <tr>\n",
       "      <th>90.0</th>\n",
       "      <td>12</td>\n",
       "    </tr>\n",
       "    <tr>\n",
       "      <th>35.0</th>\n",
       "      <td>9</td>\n",
       "    </tr>\n",
       "    <tr>\n",
       "      <th>25.0</th>\n",
       "      <td>7</td>\n",
       "    </tr>\n",
       "    <tr>\n",
       "      <th>95.0</th>\n",
       "      <td>5</td>\n",
       "    </tr>\n",
       "    <tr>\n",
       "      <th>85.0</th>\n",
       "      <td>5</td>\n",
       "    </tr>\n",
       "    <tr>\n",
       "      <th>20.0</th>\n",
       "      <td>1</td>\n",
       "    </tr>\n",
       "    <tr>\n",
       "      <th>100.0</th>\n",
       "      <td>1</td>\n",
       "    </tr>\n",
       "  </tbody>\n",
       "</table>\n",
       "</div>"
      ],
      "text/plain": [
       "       score\n",
       "50.0      54\n",
       "55.0      46\n",
       "0.0       37\n",
       "75.0      33\n",
       "65.0      31\n",
       "60.0      31\n",
       "40.0      30\n",
       "70.0      27\n",
       "45.0      26\n",
       "80.0      16\n",
       "30.0      15\n",
       "90.0      12\n",
       "35.0       9\n",
       "25.0       7\n",
       "95.0       5\n",
       "85.0       5\n",
       "20.0       1\n",
       "100.0      1"
      ]
     },
     "metadata": {},
     "output_type": "display_data"
    },
    {
     "name": "stdout",
     "output_type": "stream",
     "text": [
      "Уникальных значений: 18\n",
      "<class 'pandas.core.frame.DataFrame'>\n",
      "Int64Index: 392 entries, 0 to 394\n",
      "Data columns (total 1 columns):\n",
      " #   Column  Non-Null Count  Dtype  \n",
      "---  ------  --------------  -----  \n",
      " 0   score   386 non-null    float64\n",
      "dtypes: float64(1)\n",
      "memory usage: 6.1 KB\n",
      "\n",
      "========================================\n",
      "Первичная статистика (квартили, границы):\n",
      "Среднее значение: 52.2279792746114\n",
      " 25-й перцентиль: 40.0\n",
      " 50-й перцентиль: 55.0\n",
      " 75-й перцентиль: 70.0\n",
      " IQR: 30.0\n",
      " Границы выбросов: [-5.0, 115.0]\n",
      "\n",
      "\n",
      "========================================\n",
      "График:\n"
     ]
    },
    {
     "data": {
      "image/png": "[encoded data removed]",
      "text/plain": [
       "<Figure size 432x288 with 1 Axes>"
      ]
     },
     "metadata": {
      "needs_background": "light"
     },
     "output_type": "display_data"
    }
   ],
   "source": [
    "# students = refill_nan(students, 'famsup')\n",
    "\n",
    "show_info(students, 'score')"
   ]
  },
  {
   "cell_type": "markdown",
   "id": "5096d0e7",
   "metadata": {},
   "source": [
    "1. самое частое - 50\n",
    "2. есть нулевые значения. Нужно быть сверхразумом, чтобы заработать 0 баллов. Но в рамки влезает, пока оставим\n",
    "3. пустые значения нам точно не нужны. от них избавимся"
   ]
  },
  {
   "cell_type": "code",
   "execution_count": 74,
   "id": "823f3e5d",
   "metadata": {},
   "outputs": [],
   "source": [
    "students = students[students.score >= 0]"
   ]
  },
  {
   "cell_type": "code",
   "execution_count": null,
   "id": "693af63e",
   "metadata": {},
   "outputs": [],
   "source": []
  }
 ],
 "metadata": {
  "kernelspec": {
   "display_name": "Python 3",
   "language": "python",
   "name": "python3"
  },
  "language_info": {
   "codemirror_mode": {
    "name": "ipython",
    "version": 3
   },
   "file_extension": ".py",
   "mimetype": "text/x-python",
   "name": "python",
   "nbconvert_exporter": "python",
   "pygments_lexer": "ipython3",
   "version": "3.8.8"
  }
 },
 "nbformat": 4,
 "nbformat_minor": 5
}
